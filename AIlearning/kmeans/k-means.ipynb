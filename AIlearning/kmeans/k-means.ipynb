{
 "cells": [
  {
   "cell_type": "code",
   "execution_count": 1,
   "metadata": {},
   "outputs": [],
   "source": [
    "from sklearn.datasets import make_blobs\n",
    "import matplotlib.pyplot as plt"
   ]
  },
  {
   "cell_type": "code",
   "execution_count": 26,
   "metadata": {},
   "outputs": [],
   "source": [
    "#自己创建数据集\n",
    "X, y = make_blobs(n_samples=500,n_features=2,centers=4,random_state=1)"
   ]
  },
  {
   "cell_type": "code",
   "execution_count": 3,
   "metadata": {},
   "outputs": [
    {
     "data": {
      "text/plain": [
       "array([[-6.92324165e+00, -1.06695320e+01],\n",
       "       [-8.63062033e+00, -7.13940564e+00],\n",
       "       [-9.63048069e+00, -2.72044935e+00],\n",
       "       [-2.30647659e+00,  5.30797676e+00],\n",
       "       [-7.57005366e+00, -3.01446491e+00],\n",
       "       [-1.00051011e+00,  2.77905153e+00],\n",
       "       [-4.81826839e+00, -2.77214822e+00],\n",
       "       [-5.33964799e+00, -1.27625764e+00],\n",
       "       [-7.94308840e+00, -3.89993901e+00],\n",
       "       [-5.54924525e+00, -3.41298968e+00],\n",
       "       [-5.14508990e+00, -9.54492198e+00],\n",
       "       [-7.09669936e+00, -8.04074036e+00],\n",
       "       [-5.82641512e+00, -1.96346196e+00],\n",
       "       [-1.83198811e+00,  3.52863145e+00],\n",
       "       [-7.34267235e+00, -3.16546482e+00],\n",
       "       [-7.34072825e+00, -6.92427252e+00],\n",
       "       [-7.94653906e+00, -3.36768655e+00],\n",
       "       [-8.24598536e+00, -8.61315821e+00],\n",
       "       [-1.98197711e+00,  4.02243551e+00],\n",
       "       [-4.35098035e+00, -3.69476678e+00],\n",
       "       [-1.04768696e+01, -3.60318139e+00],\n",
       "       [-1.10195984e+01, -3.15882031e+00],\n",
       "       [-5.17255904e+00, -4.31835971e+00],\n",
       "       [-2.40671820e+00,  6.09894447e+00],\n",
       "       [-6.72149498e+00, -2.88440806e+00],\n",
       "       [-6.58935963e+00, -4.43379548e+00],\n",
       "       [-1.46126019e+00,  4.52549851e+00],\n",
       "       [-9.19003455e-01,  3.45278927e+00],\n",
       "       [-1.04093517e+01, -2.67482046e+00],\n",
       "       [-6.36722809e+00, -3.32666072e+00],\n",
       "       [-6.72766125e+00, -7.14516267e+00],\n",
       "       [-2.27956075e+00,  5.10452190e+00],\n",
       "       [-5.84887560e+00, -3.03970506e+00],\n",
       "       [-6.07993051e+00, -7.08197568e+00],\n",
       "       [-5.26682929e+00, -2.69645055e+00],\n",
       "       [-6.05367512e+00, -9.62979077e+00],\n",
       "       [-1.00822205e+01, -4.25071043e+00],\n",
       "       [-1.18708735e+01, -3.03273343e+00],\n",
       "       [-5.37107307e+00, -7.95635833e+00],\n",
       "       [-9.37590900e+00, -4.55315308e+00],\n",
       "       [-6.63401987e+00, -2.58340356e+00],\n",
       "       [-9.54609655e+00, -2.84917422e+00],\n",
       "       [-1.69825542e+00,  2.79071751e+00],\n",
       "       [-5.60217602e+00, -6.59908490e-01],\n",
       "       [-6.03429022e+00, -4.08821196e+00],\n",
       "       [-6.37230784e+00, -8.63190046e+00],\n",
       "       [-1.02264783e+01, -2.33998717e+00],\n",
       "       [-5.95678148e+00, -3.97905701e+00],\n",
       "       [-1.42706535e+00,  5.08904128e+00],\n",
       "       [-6.20735304e-01,  6.59346952e+00],\n",
       "       [-3.28102793e-01,  4.11918201e+00],\n",
       "       [-1.06230545e+01, -4.54719161e+00],\n",
       "       [-9.12674270e+00, -4.46180568e+00],\n",
       "       [-5.24134497e+00, -3.23505873e+00],\n",
       "       [-7.19967531e+00, -7.10400981e+00],\n",
       "       [-1.01136977e+01, -4.12880752e+00],\n",
       "       [-1.03416132e+01, -4.95351774e+00],\n",
       "       [-1.25041532e+01, -6.06751247e+00],\n",
       "       [-9.32331640e+00, -4.67574045e+00],\n",
       "       [-7.32033002e+00, -2.73350095e+00],\n",
       "       [-2.20533407e+00,  4.20765201e+00],\n",
       "       [-5.27930518e-01,  5.92630669e+00],\n",
       "       [-8.87430034e+00, -3.64808151e+00],\n",
       "       [-6.66948545e+00, -4.26059884e+00],\n",
       "       [-1.37397258e+00,  5.29163103e+00],\n",
       "       [-6.60085708e+00, -3.11969688e+00],\n",
       "       [-7.99175412e+00, -8.33564851e+00],\n",
       "       [-6.22447869e+00, -2.43846224e+00],\n",
       "       [-1.11054250e+01, -3.97106687e+00],\n",
       "       [-8.95762335e+00, -4.87178859e+00],\n",
       "       [-6.65461644e+00, -7.29335713e+00],\n",
       "       [-1.09531378e+01, -3.36743812e+00],\n",
       "       [-5.11351008e+00, -2.01881992e+00],\n",
       "       [-7.24251438e+00, -9.66368448e+00],\n",
       "       [-5.34929456e+00, -3.54577332e+00],\n",
       "       [-6.29261332e+00, -3.68892426e+00],\n",
       "       [-7.35387953e+00, -8.54504434e+00],\n",
       "       [-5.78423473e+00, -4.48406848e+00],\n",
       "       [-5.66256325e+00, -2.34390092e+00],\n",
       "       [-8.60893311e+00, -4.61469279e+00],\n",
       "       [-2.52019906e-01,  4.53559145e+00],\n",
       "       [-1.92744799e+00,  4.93684534e+00],\n",
       "       [-9.41306589e+00, -3.62907430e+00],\n",
       "       [-8.48608233e-01,  5.45093196e+00],\n",
       "       [-8.66753040e-01,  3.78295914e+00],\n",
       "       [-1.01842915e+01, -4.01017303e+00],\n",
       "       [-7.93192918e+00, -5.42450547e+00],\n",
       "       [-2.75447175e+00,  4.57587230e+00],\n",
       "       [-1.17171070e+01, -3.89622755e+00],\n",
       "       [-8.85081213e+00, -4.00305113e+00],\n",
       "       [-1.34392496e+00,  2.38428865e+00],\n",
       "       [-8.16203654e+00, -7.31459336e+00],\n",
       "       [-9.18886814e+00, -2.16359386e+00],\n",
       "       [-7.13229260e+00, -4.02296730e+00],\n",
       "       [-4.26103071e-02,  4.90923075e+00],\n",
       "       [-7.24449448e+00, -7.65150300e+00],\n",
       "       [-8.13784646e+00, -7.65806949e+00],\n",
       "       [-6.73451345e+00, -1.38330194e+00],\n",
       "       [-8.96369424e+00, -9.27033880e+00],\n",
       "       [ 8.68765801e-01,  4.15785509e+00],\n",
       "       [-5.45176929e-01,  3.81996593e+00],\n",
       "       [-8.01694428e+00, -8.67137366e+00],\n",
       "       [-3.33375571e+00,  5.23151969e+00],\n",
       "       [-1.14385885e+01, -2.72109548e+00],\n",
       "       [-2.52087627e+00,  5.08120139e+00],\n",
       "       [-6.84394443e+00, -4.15058222e+00],\n",
       "       [-5.87619738e+00, -3.28078916e+00],\n",
       "       [-1.21819546e+00,  4.30633464e+00],\n",
       "       [-2.00341358e+00,  4.45008673e+00],\n",
       "       [-1.01077040e+01, -3.94479960e+00],\n",
       "       [-7.03045854e+00, -1.23734756e+00],\n",
       "       [-6.95685137e+00, -8.12381049e+00],\n",
       "       [-2.33022219e+00,  4.78405366e+00],\n",
       "       [-9.98435983e+00, -4.64804214e+00],\n",
       "       [-2.33080604e+00,  4.39382527e+00],\n",
       "       [-1.07796242e+01, -4.39085753e+00],\n",
       "       [-2.03484486e+00,  3.76775946e+00],\n",
       "       [-7.16744245e+00, -3.24998378e+00],\n",
       "       [-4.99221336e-01,  4.77598259e+00],\n",
       "       [-5.76681144e+00, -3.41281779e+00],\n",
       "       [-1.06990569e+01, -4.49057157e+00],\n",
       "       [-7.28729621e+00, -6.68306776e+00],\n",
       "       [-8.17831829e+00, -8.22063813e+00],\n",
       "       [-9.14443128e+00, -4.36637786e+00],\n",
       "       [-7.22323543e+00, -3.51226376e+00],\n",
       "       [-9.71296439e+00, -3.69088110e+00],\n",
       "       [-3.19091528e-02,  4.74450157e+00],\n",
       "       [-7.10406044e+00, -8.38198228e+00],\n",
       "       [-7.52482501e+00, -7.50887444e+00],\n",
       "       [-6.31161343e+00, -2.97641697e+00],\n",
       "       [-5.38142198e-01,  4.81539041e+00],\n",
       "       [-9.58041050e+00, -3.16857790e+00],\n",
       "       [-9.53106924e+00, -2.91966168e+00],\n",
       "       [-1.07650223e+01, -3.27877784e+00],\n",
       "       [-9.54658956e+00, -4.64826945e+00],\n",
       "       [-7.39393373e+00, -6.80612264e+00],\n",
       "       [-2.99151157e+00,  2.64580131e+00],\n",
       "       [-5.67558254e+00, -4.55902255e+00],\n",
       "       [-3.51754177e+00,  5.64265390e+00],\n",
       "       [-9.98539618e-01,  6.19864808e+00],\n",
       "       [-5.96497901e+00, -2.03746469e+00],\n",
       "       [-8.85279507e+00, -7.79138079e+00],\n",
       "       [-4.64310426e+00, -2.22789422e+00],\n",
       "       [-1.35938959e+00,  4.05424002e+00],\n",
       "       [-5.25790464e-01,  3.30659860e+00],\n",
       "       [-1.15637509e+00,  5.69971575e+00],\n",
       "       [-6.42530010e+00, -2.17328619e+00],\n",
       "       [-5.70183305e+00, -2.63083838e+00],\n",
       "       [-6.04632971e+00, -6.92266990e+00],\n",
       "       [-8.14559288e+00, -7.42775410e+00],\n",
       "       [-9.15685095e+00, -4.05623576e+00],\n",
       "       [-9.16170778e+00, -2.40998944e+00],\n",
       "       [-1.46864442e+00,  6.50674501e+00],\n",
       "       [-6.74672798e+00, -8.17245974e+00],\n",
       "       [-1.98605940e+00,  3.06381408e+00],\n",
       "       [-1.03289957e+01, -3.56680940e+00],\n",
       "       [-9.34313235e+00, -4.00453699e+00],\n",
       "       [-9.55954616e+00, -2.83102023e+00],\n",
       "       [-1.01659113e+01, -4.12752889e+00],\n",
       "       [-9.84144865e+00, -4.14356957e+00],\n",
       "       [-1.02768102e+01, -2.33049946e+00],\n",
       "       [-1.01030572e+01, -3.32315288e+00],\n",
       "       [-9.90228742e+00, -3.03189848e+00],\n",
       "       [-9.72121320e+00, -4.68662015e+00],\n",
       "       [-1.85139546e+00,  3.51886090e+00],\n",
       "       [-6.69321189e+00, -6.30021862e+00],\n",
       "       [-6.53371839e+00, -8.14922726e+00],\n",
       "       [-8.46369500e+00, -8.07146029e+00],\n",
       "       [-5.75004528e+00, -3.56590967e+00],\n",
       "       [-1.17104176e+00,  4.33091816e+00],\n",
       "       [-8.52628579e+00, -8.66957601e+00],\n",
       "       [-9.23890684e+00, -3.06843973e+00],\n",
       "       [-6.12803051e+00, -2.51698058e+00],\n",
       "       [-8.10406451e+00, -7.42020487e+00],\n",
       "       [-1.61589091e+00,  4.18017563e+00],\n",
       "       [-8.98758533e+00, -3.03333061e+00],\n",
       "       [-1.19410359e+01, -3.60085418e+00],\n",
       "       [-1.04399418e+01, -3.62982119e+00],\n",
       "       [-1.14242679e+01, -2.18538860e+00],\n",
       "       [-9.00992914e+00, -9.06865247e+00],\n",
       "       [-6.47435649e+00, -3.74338863e+00],\n",
       "       [-9.63138049e+00, -4.99793793e+00],\n",
       "       [ 5.26015501e-01,  3.00999353e+00],\n",
       "       [-9.76324393e+00, -9.36656623e+00],\n",
       "       [-6.27965526e+00, -8.81809587e+00],\n",
       "       [-9.46883276e+00, -6.19043506e+00],\n",
       "       [-5.77336618e+00, -3.56739953e+00],\n",
       "       [-6.69242533e+00, -8.30171791e+00],\n",
       "       [-7.44439970e+00, -9.16803180e+00],\n",
       "       [-7.11478469e+00, -5.38699134e+00],\n",
       "       [-3.85803976e-01,  6.37359162e+00],\n",
       "       [-2.00454712e+00,  4.17565013e+00],\n",
       "       [-5.75517628e+00, -9.30821074e+00],\n",
       "       [-9.14168421e+00, -7.20572694e+00],\n",
       "       [-5.92092535e+00, -3.27574048e+00],\n",
       "       [-2.35122066e+00,  4.00973634e+00],\n",
       "       [-5.91907851e+00, -2.23919861e+00],\n",
       "       [-5.62200526e+00, -8.69290967e+00],\n",
       "       [-7.54246304e+00, -8.12722811e+00],\n",
       "       [-2.41395785e+00,  5.65935802e+00],\n",
       "       [-6.37151596e+00, -8.91129543e+00],\n",
       "       [-1.21401792e+01, -4.78351741e+00],\n",
       "       [-4.45264491e+00,  6.34401868e+00],\n",
       "       [-5.59698820e+00, -4.19535853e+00],\n",
       "       [-6.07503622e+00, -2.15606405e+00],\n",
       "       [-7.24828238e+00, -7.05222790e+00],\n",
       "       [-4.77891101e+00, -2.41333165e+00],\n",
       "       [-1.24112155e+01, -5.73091492e+00],\n",
       "       [-6.75264349e+00, -8.34654975e+00],\n",
       "       [-5.05492139e+00, -4.22257749e+00],\n",
       "       [-1.03825448e+01, -2.49524031e+00],\n",
       "       [-7.22570502e+00, -3.79313579e+00],\n",
       "       [-1.19498178e+01, -5.35567769e+00],\n",
       "       [-7.62867092e+00, -8.06354170e+00],\n",
       "       [-4.61767113e+00, -1.67111145e+00],\n",
       "       [-5.12219664e+00, -3.31302123e+00],\n",
       "       [-6.29225072e+00, -2.35738294e+00],\n",
       "       [ 2.42271161e-04,  5.14853403e+00],\n",
       "       [-8.79988166e+00, -2.24875438e+00],\n",
       "       [-2.77687025e+00,  4.64090557e+00],\n",
       "       [-6.39694979e+00, -3.76963703e+00],\n",
       "       [-6.92263081e+00, -7.63972262e+00],\n",
       "       [-1.15768688e+01, -4.78197653e+00],\n",
       "       [-5.66824737e+00, -3.82607509e+00],\n",
       "       [-1.11578826e+01, -2.60324173e+00],\n",
       "       [-1.04730854e+01, -3.47573837e+00],\n",
       "       [-9.98118494e+00, -3.77616083e+00],\n",
       "       [-1.04102078e+00,  3.96331794e+00],\n",
       "       [-9.32856015e+00, -2.60893309e+00],\n",
       "       [-1.13898357e+00,  3.26214848e+00],\n",
       "       [-6.17905638e+00, -7.96336646e+00],\n",
       "       [-1.02356544e+01, -2.79806066e+00],\n",
       "       [-5.77133256e+00, -8.59222577e+00],\n",
       "       [-9.14500844e+00, -3.91798845e+00],\n",
       "       [-1.61734616e+00,  4.98930508e+00],\n",
       "       [-2.77867530e+00,  6.36256877e+00],\n",
       "       [-9.54642849e+00, -5.63740853e+00],\n",
       "       [-6.91486590e+00, -7.68969378e+00],\n",
       "       [-1.84612968e+00,  4.30474400e+00],\n",
       "       [-5.52834586e+00, -8.15360311e+00],\n",
       "       [-6.00915337e+00, -3.34925152e+00],\n",
       "       [-8.54628324e+00, -4.57138540e+00],\n",
       "       [-7.31655639e+00, -7.77051293e+00],\n",
       "       [-7.20423399e+00, -8.88176559e+00],\n",
       "       [-7.55600732e+00, -8.01885499e+00],\n",
       "       [-5.67856792e+00, -7.60509852e+00],\n",
       "       [-5.21446826e+00, -4.79995312e+00],\n",
       "       [-9.37662980e+00, -2.99722684e+00],\n",
       "       [-5.31844709e+00, -8.92829839e+00],\n",
       "       [-1.08278844e+01, -4.83392615e+00],\n",
       "       [-6.06569910e+00, -1.53376946e+00],\n",
       "       [-2.34673261e+00,  3.56128423e+00],\n",
       "       [-1.25606826e+00,  5.00006839e+00],\n",
       "       [-5.83979745e+00, -2.17836186e+00],\n",
       "       [-6.87088211e+00, -2.22716236e+00],\n",
       "       [-1.79600465e+00,  4.28743568e+00],\n",
       "       [-9.37972697e+00, -4.13752487e+00],\n",
       "       [-7.23605937e+00, -4.54710992e+00],\n",
       "       [-1.02794488e+01, -1.89699302e+00],\n",
       "       [-1.41689046e+00,  4.60832005e+00],\n",
       "       [-5.78045412e+00, -4.58297922e+00],\n",
       "       [ 8.52518583e-02,  3.64528297e+00],\n",
       "       [-9.20268641e+00, -4.32778687e+00],\n",
       "       [-9.56818636e+00, -4.56034695e+00],\n",
       "       [-1.16434858e+00,  4.23178671e+00],\n",
       "       [-6.16345851e+00, -3.10830802e+00],\n",
       "       [-6.32152564e+00, -9.66280079e+00],\n",
       "       [-7.52099974e+00, -9.13311836e+00],\n",
       "       [-9.22029330e+00, -4.07211972e+00],\n",
       "       [-1.08491682e+01, -2.95246712e+00],\n",
       "       [-9.86366431e+00, -2.75129369e+00],\n",
       "       [-6.79715224e+00, -3.45804136e+00],\n",
       "       [-9.79490066e-01,  4.08668827e+00],\n",
       "       [-2.06043810e+00,  5.23049549e+00],\n",
       "       [-5.66839183e+00, -7.95067847e-01],\n",
       "       [-7.57969185e-01,  4.90898421e+00],\n",
       "       [-1.04205695e+01, -3.86688414e+00],\n",
       "       [-7.12425009e+00, -6.70423870e+00],\n",
       "       [-1.37889483e+00,  4.33337717e+00],\n",
       "       [-6.61466444e+00, -7.52579102e+00],\n",
       "       [-1.34052081e+00,  4.15711949e+00],\n",
       "       [-6.21160000e+00, -8.29293984e+00],\n",
       "       [-7.56885613e+00, -8.13527221e+00],\n",
       "       [-1.77000693e+00,  3.78912781e+00],\n",
       "       [-7.36585834e+00, -7.34577219e+00],\n",
       "       [-1.49952284e+00,  5.28265879e+00],\n",
       "       [-2.85882794e+00,  5.26983519e+00],\n",
       "       [-7.73884935e+00, -3.24327665e+00],\n",
       "       [-1.08201797e+01, -3.23163726e+00],\n",
       "       [-8.53682012e+00, -3.36087575e+00],\n",
       "       [-1.20349137e+01, -5.89593773e+00],\n",
       "       [-5.26910909e+00, -2.73521824e+00],\n",
       "       [-6.71299604e+00, -2.90324984e+00],\n",
       "       [-8.36118634e+00, -2.72698382e+00],\n",
       "       [-5.48941428e+00, -6.94662021e+00],\n",
       "       [ 5.31139823e-01,  2.51012895e+00],\n",
       "       [-5.64126775e+00, -7.24922893e+00],\n",
       "       [-9.48263889e+00, -6.73588302e+00],\n",
       "       [-7.53103704e+00, -6.76823676e+00],\n",
       "       [-6.31078595e+00, -2.05174648e+00],\n",
       "       [-8.70233178e+00, -4.19462540e+00],\n",
       "       [-6.11013071e+00, -2.31061128e+00],\n",
       "       [-5.83972633e+00, -9.20677418e+00],\n",
       "       [-1.17536381e+01, -3.23855895e+00],\n",
       "       [-9.29199482e+00, -9.85256171e+00],\n",
       "       [-7.85568214e+00, -6.92950589e+00],\n",
       "       [-1.01967107e+01, -2.08687717e+00],\n",
       "       [-7.96356538e+00, -7.83357116e+00],\n",
       "       [-6.77680402e+00, -6.65511992e+00],\n",
       "       [-1.08749940e+01, -4.82113577e+00],\n",
       "       [-1.84048021e+00,  3.80256924e+00],\n",
       "       [-7.98067403e+00, -8.56048015e+00],\n",
       "       [-6.32066246e+00, -3.30751892e+00],\n",
       "       [-6.17979966e+00, -3.00803447e+00],\n",
       "       [-2.17665436e+00,  3.40946304e+00],\n",
       "       [-6.73224718e-01,  4.62002377e+00],\n",
       "       [-8.93892171e+00, -3.51521408e+00],\n",
       "       [-7.48937497e+00, -8.88475909e+00],\n",
       "       [-2.89641328e+00,  5.28232880e+00],\n",
       "       [-8.13399258e-01,  3.54697393e+00],\n",
       "       [-5.77752667e+00, -2.85145276e+00],\n",
       "       [-6.24883850e+00, -8.76563508e+00],\n",
       "       [-3.10367371e+00,  3.90202401e+00],\n",
       "       [-1.05724063e+00,  4.82677207e+00],\n",
       "       [-5.73215048e+00, -5.04695454e+00],\n",
       "       [-9.93696231e+00, -3.74222379e+00],\n",
       "       [-3.03267723e+00,  4.72164926e+00],\n",
       "       [-1.07035530e+01, -2.76066248e+00],\n",
       "       [-5.68475631e+00, -3.76816924e+00],\n",
       "       [-8.62182374e+00, -8.76567023e+00],\n",
       "       [-6.67177294e+00, -9.97714796e+00],\n",
       "       [-1.92577841e+00,  4.43910442e+00],\n",
       "       [-8.16299488e+00, -3.38896569e+00],\n",
       "       [-3.74380343e+00, -8.75345344e+00],\n",
       "       [-5.66601211e+00, -4.97019633e+00],\n",
       "       [-2.88961804e+00,  4.95702736e+00],\n",
       "       [-2.35995841e+00,  4.20309542e+00],\n",
       "       [-6.80491557e+00, -3.49602548e+00],\n",
       "       [-7.10480676e+00, -4.10830531e+00],\n",
       "       [-6.96685539e+00, -3.12876392e+00],\n",
       "       [-6.31354495e+00, -8.01283267e+00],\n",
       "       [-4.47120679e+00, -3.54131043e+00],\n",
       "       [-1.53940095e+00,  5.02369298e+00],\n",
       "       [-1.60875215e+00,  3.76949422e+00],\n",
       "       [-1.01927698e+01, -3.14795512e+00],\n",
       "       [-2.80207810e+00,  4.05714715e+00],\n",
       "       [ 2.45098802e-01,  5.51754657e+00],\n",
       "       [-3.31028117e+00,  3.51593428e+00],\n",
       "       [-2.84187803e+00,  3.74073535e+00],\n",
       "       [-5.75867612e+00, -8.75783107e+00],\n",
       "       [-5.99591056e+00, -8.11285667e+00],\n",
       "       [-4.98360687e+00, -3.20522961e+00],\n",
       "       [-1.86845414e+00,  4.99311306e+00],\n",
       "       [-9.71503679e+00, -4.77944598e+00],\n",
       "       [-6.47373322e+00, -2.78682541e+00],\n",
       "       [-6.99263028e+00, -7.14344077e+00],\n",
       "       [-1.53773863e+00,  5.53597378e+00],\n",
       "       [-1.04464505e+01, -4.62579659e+00],\n",
       "       [-1.09679881e+00,  4.64722696e+00],\n",
       "       [-7.25256877e+00, -2.91682833e+00],\n",
       "       [-1.97451969e-01,  2.34634916e+00],\n",
       "       [-1.00670412e+01, -4.06174061e+00],\n",
       "       [-6.13468589e+00, -4.50793424e+00],\n",
       "       [-1.03725172e+01, -4.70331816e+00],\n",
       "       [-1.88188805e+00,  4.20573180e+00],\n",
       "       [-7.15498484e+00, -3.10778598e+00],\n",
       "       [-6.14254799e+00, -3.65202206e+00],\n",
       "       [-7.42749427e+00, -9.63838456e+00],\n",
       "       [-1.13009458e+00,  4.54419108e+00],\n",
       "       [-6.28485505e+00, -8.78266971e+00],\n",
       "       [-7.33325349e+00, -8.28490373e+00],\n",
       "       [-6.40320111e+00, -7.16687592e+00],\n",
       "       [-7.22187586e+00, -9.48843083e+00],\n",
       "       [-6.09834293e+00, -7.44017905e+00],\n",
       "       [-7.20807793e+00, -7.12024433e+00],\n",
       "       [-9.68744022e+00, -6.04759636e+00],\n",
       "       [-7.87372938e+00, -7.59578865e+00],\n",
       "       [-1.14663009e+00,  4.10839703e+00],\n",
       "       [-5.90344220e+00, -8.18075749e+00],\n",
       "       [-2.76017908e+00,  5.55121358e+00],\n",
       "       [-1.23606555e+00,  4.48382994e+00],\n",
       "       [-9.97584967e+00, -4.42202236e+00],\n",
       "       [-2.10668847e+00,  5.63099757e+00],\n",
       "       [-4.73558876e+00, -4.23748969e+00],\n",
       "       [-1.07233096e+01, -4.82111722e+00],\n",
       "       [-8.26074369e+00, -5.64724782e+00],\n",
       "       [-6.88384344e+00, -7.04605265e+00],\n",
       "       [-2.15777347e+00,  4.09550489e+00],\n",
       "       [-7.85988444e+00, -4.73888254e+00],\n",
       "       [-4.60642026e-01,  4.59164629e+00],\n",
       "       [-5.05685487e+00, -5.02946642e+00],\n",
       "       [-7.66055006e+00, -8.46234942e+00],\n",
       "       [-8.41923982e+00, -3.45834788e+00],\n",
       "       [-1.09947323e+01, -4.06014253e+00],\n",
       "       [-6.71376529e+00, -8.22199857e+00],\n",
       "       [-1.07972600e+01, -4.24494314e+00],\n",
       "       [-8.23746328e+00, -4.01400104e+00],\n",
       "       [-2.93211866e+00,  4.72003759e+00],\n",
       "       [-1.66145139e+00,  3.00986944e+00],\n",
       "       [-7.65734347e+00, -1.04581360e+01],\n",
       "       [-9.98054778e+00, -4.38249083e+00],\n",
       "       [-5.51940374e+00, -2.38780334e+00],\n",
       "       [-1.96967668e+00,  1.97165210e+00],\n",
       "       [-3.88464981e+00, -2.84336261e+00],\n",
       "       [-5.82969906e+00, -2.99067321e+00],\n",
       "       [-6.66700176e+00, -9.14923899e+00],\n",
       "       [-6.62889599e+00, -8.84071550e+00],\n",
       "       [-6.48944961e+00, -2.06753733e+00],\n",
       "       [-7.17134231e+00, -1.09442245e+01],\n",
       "       [-1.13042466e+01, -3.87696807e+00],\n",
       "       [-9.53654840e+00, -5.12933122e+00],\n",
       "       [-6.09866132e+00, -7.42731125e+00],\n",
       "       [-8.78925618e+00, -2.83764674e+00],\n",
       "       [-7.32386504e+00, -7.96393491e+00],\n",
       "       [-1.00330804e+01, -1.84274349e+00],\n",
       "       [-1.03619773e+00,  3.97153319e+00],\n",
       "       [-6.42829877e+00, -6.74397472e+00],\n",
       "       [-2.87930430e+00,  6.85585852e+00],\n",
       "       [-1.05299465e+01, -2.83521515e+00],\n",
       "       [-6.11423078e+00, -3.20893543e+00],\n",
       "       [-1.78245013e+00,  3.47072043e+00],\n",
       "       [-8.95271809e+00, -3.34483385e+00],\n",
       "       [-5.16617901e+00, -3.79170586e+00],\n",
       "       [-1.64215050e+00,  3.28447114e+00],\n",
       "       [-8.33534296e+00, -7.87023257e+00],\n",
       "       [-6.31107706e+00, -3.92118081e+00],\n",
       "       [-1.78002448e+00,  3.17336913e+00],\n",
       "       [-1.68417686e+00,  3.63132825e+00],\n",
       "       [-1.05552072e+01, -3.01417980e+00],\n",
       "       [-5.34354009e+00, -2.13897664e+00],\n",
       "       [-1.15365057e+01, -4.40124373e+00],\n",
       "       [-4.89503758e+00, -2.48633456e+00],\n",
       "       [-5.44396990e+00, -8.95941292e+00],\n",
       "       [-1.58173878e+00,  5.02487013e+00],\n",
       "       [-7.02993859e+00, -6.69931052e+00],\n",
       "       [-6.17074238e+00, -2.56078204e+00],\n",
       "       [-2.22186534e+00,  6.36136794e+00],\n",
       "       [-7.57385446e+00, -8.31971406e+00],\n",
       "       [-7.65822594e+00, -7.64292051e+00],\n",
       "       [-6.89501293e+00, -9.31723608e+00],\n",
       "       [-1.11141825e+01, -3.87242145e+00],\n",
       "       [-7.94152277e-01,  2.10495117e+00],\n",
       "       [-6.42803193e+00, -5.52129397e+00],\n",
       "       [-5.89780702e+00, -8.19289680e+00],\n",
       "       [-6.59169697e+00, -2.44779959e+00],\n",
       "       [-6.45785776e+00, -3.30981436e+00],\n",
       "       [-1.07755713e+01, -2.83750744e+00],\n",
       "       [-1.02341495e+01, -3.22553505e+00],\n",
       "       [-6.26681839e+00, -8.25516014e+00],\n",
       "       [-5.20580980e+00, -3.29853839e+00],\n",
       "       [-5.46045264e+00, -2.30831553e+00],\n",
       "       [-7.04259952e+00, -3.45332351e+00],\n",
       "       [-6.09962804e+00, -3.14226915e+00],\n",
       "       [-5.66006950e+00, -3.43776965e+00],\n",
       "       [-7.08097398e+00, -3.03972377e+00],\n",
       "       [-8.41264712e+00, -6.68248825e+00],\n",
       "       [-7.36513410e+00, -1.38859731e+00],\n",
       "       [-1.04166504e+01, -4.43253346e+00],\n",
       "       [-6.41623854e+00, -8.04588481e+00],\n",
       "       [-5.88919348e+00, -2.37049472e+00],\n",
       "       [-1.42946517e+00,  5.16850105e+00],\n",
       "       [-6.56118069e+00, -3.95967311e+00],\n",
       "       [-1.47299851e+00,  4.81654152e+00],\n",
       "       [-5.88100804e+00, -3.31692615e+00],\n",
       "       [-1.04125594e+01, -3.50140251e+00],\n",
       "       [-8.55209377e+00, -3.15841000e+00],\n",
       "       [-7.90673749e-01,  5.15690151e+00],\n",
       "       [-1.00754365e-01,  4.51589257e+00],\n",
       "       [-1.30901393e+00,  3.09420646e+00],\n",
       "       [-9.54755699e+00, -2.18801345e+00],\n",
       "       [-5.32030011e+00, -2.99303869e+00],\n",
       "       [-9.48229870e+00, -5.06821960e+00],\n",
       "       [-6.74361627e+00, -8.87844303e+00],\n",
       "       [-1.02518924e+01, -2.55350460e+00],\n",
       "       [-1.96576392e+00,  5.23446451e+00],\n",
       "       [-5.88036774e+00, -2.36326290e+00],\n",
       "       [-7.34774574e+00, -8.41955499e+00],\n",
       "       [-7.58703957e-01,  3.72276201e+00],\n",
       "       [-8.41357863e+00, -6.85069257e+00],\n",
       "       [-8.20576492e-01,  5.33759195e+00],\n",
       "       [-7.93489041e+00, -7.78403764e+00],\n",
       "       [-5.69446566e+00, -4.06205304e+00],\n",
       "       [-8.57698874e-01,  4.45305717e+00],\n",
       "       [ 1.50975008e-01,  3.10076295e+00],\n",
       "       [-6.55394441e+00, -6.44256627e+00],\n",
       "       [-1.09316272e+01, -4.48636887e+00],\n",
       "       [-6.50155596e+00, -4.65329331e+00],\n",
       "       [-6.93650519e+00, -6.39281292e+00],\n",
       "       [-1.01336898e+01, -4.75061833e+00],\n",
       "       [-9.89148978e+00, -5.47902886e+00],\n",
       "       [-8.89871617e+00, -4.85498304e+00],\n",
       "       [-8.11394993e+00, -7.83656921e+00],\n",
       "       [-5.29078354e+00, -3.64846688e+00],\n",
       "       [-1.41076074e+00,  4.10984872e+00],\n",
       "       [-9.50537595e+00, -4.63402669e+00],\n",
       "       [-7.82749456e+00, -2.51032104e+00],\n",
       "       [-6.38088086e+00, -8.50663809e+00],\n",
       "       [-8.96014913e+00, -8.06349899e+00],\n",
       "       [-7.66603898e+00, -7.59715459e+00],\n",
       "       [-6.46534407e+00, -2.85544633e+00]])"
      ]
     },
     "execution_count": 3,
     "metadata": {},
     "output_type": "execute_result"
    }
   ],
   "source": [
    "X"
   ]
  },
  {
   "cell_type": "code",
   "execution_count": 4,
   "metadata": {},
   "outputs": [
    {
     "data": {
      "text/plain": [
       "array([2, 2, 1, 0, 3, 0, 3, 3, 1, 3, 2, 2, 3, 0, 3, 2, 1, 2, 0, 3, 1, 1,\n",
       "       3, 0, 3, 3, 0, 0, 1, 3, 2, 0, 3, 2, 3, 2, 1, 1, 2, 1, 3, 1, 0, 3,\n",
       "       3, 2, 1, 3, 0, 0, 0, 1, 1, 3, 2, 1, 1, 1, 1, 3, 0, 0, 1, 3, 0, 3,\n",
       "       2, 3, 1, 1, 2, 1, 3, 2, 3, 3, 2, 3, 3, 1, 0, 0, 1, 0, 0, 1, 1, 0,\n",
       "       1, 1, 0, 2, 1, 3, 0, 2, 2, 3, 2, 0, 0, 2, 0, 1, 0, 3, 3, 0, 0, 1,\n",
       "       3, 2, 0, 1, 0, 1, 0, 3, 0, 3, 1, 2, 2, 1, 3, 1, 0, 2, 2, 3, 0, 1,\n",
       "       1, 1, 1, 2, 0, 3, 0, 0, 3, 2, 3, 0, 0, 0, 3, 3, 2, 2, 1, 1, 0, 2,\n",
       "       0, 1, 1, 1, 1, 1, 1, 1, 1, 1, 0, 2, 2, 2, 3, 0, 2, 1, 3, 2, 0, 1,\n",
       "       1, 1, 1, 2, 3, 1, 0, 2, 2, 1, 3, 2, 2, 3, 0, 0, 2, 2, 3, 0, 3, 2,\n",
       "       2, 0, 2, 1, 0, 3, 3, 2, 3, 1, 2, 3, 1, 3, 1, 2, 3, 3, 3, 0, 1, 0,\n",
       "       3, 2, 1, 3, 1, 1, 1, 0, 3, 0, 2, 1, 2, 1, 0, 0, 1, 2, 0, 2, 3, 1,\n",
       "       2, 2, 2, 2, 3, 1, 2, 1, 3, 0, 0, 3, 3, 0, 1, 3, 1, 0, 3, 0, 1, 1,\n",
       "       0, 3, 2, 2, 1, 1, 1, 3, 0, 0, 3, 0, 1, 2, 0, 2, 0, 2, 2, 0, 2, 0,\n",
       "       0, 3, 1, 1, 1, 3, 3, 3, 2, 0, 2, 1, 2, 3, 2, 3, 2, 1, 2, 2, 1, 2,\n",
       "       2, 1, 0, 2, 3, 3, 0, 0, 3, 2, 0, 0, 3, 2, 0, 0, 3, 1, 0, 1, 3, 2,\n",
       "       2, 0, 1, 2, 3, 0, 0, 3, 3, 1, 2, 3, 0, 0, 1, 0, 0, 0, 0, 2, 2, 3,\n",
       "       0, 1, 3, 2, 0, 1, 0, 3, 0, 1, 3, 1, 0, 3, 3, 2, 0, 2, 2, 2, 2, 2,\n",
       "       2, 1, 2, 0, 2, 0, 0, 1, 0, 3, 1, 2, 2, 0, 1, 0, 3, 2, 3, 1, 2, 1,\n",
       "       1, 0, 0, 2, 1, 3, 0, 3, 3, 2, 2, 3, 2, 1, 1, 2, 1, 2, 1, 0, 2, 0,\n",
       "       1, 3, 0, 1, 3, 0, 2, 3, 0, 0, 1, 3, 1, 3, 2, 0, 2, 3, 0, 2, 2, 2,\n",
       "       1, 0, 3, 2, 3, 3, 1, 1, 2, 3, 3, 3, 3, 3, 3, 2, 3, 1, 2, 3, 0, 3,\n",
       "       0, 3, 1, 3, 0, 0, 0, 1, 3, 1, 2, 1, 0, 3, 2, 0, 2, 0, 2, 3, 0, 0,\n",
       "       2, 1, 3, 2, 1, 1, 1, 2, 3, 0, 1, 3, 2, 2, 2, 3])"
      ]
     },
     "execution_count": 4,
     "metadata": {},
     "output_type": "execute_result"
    }
   ],
   "source": [
    "y"
   ]
  },
  {
   "cell_type": "code",
   "execution_count": 5,
   "metadata": {},
   "outputs": [
    {
     "data": {
      "image/png": "[encoded data removed]",
      "text/plain": [
       "<Figure size 432x288 with 1 Axes>"
      ]
     },
     "metadata": {
      "needs_background": "light"
     },
     "output_type": "display_data"
    }
   ],
   "source": [
    "fig, ax1 = plt.subplots(1)\n",
    "ax1.scatter(X[:, 0], X[:, 1]\n",
    "           ,marker='o' #点的形状\n",
    "           ,s=8 #点的大小\n",
    "           )\n",
    "plt.show()"
   ]
  },
  {
   "cell_type": "code",
   "execution_count": 6,
   "metadata": {},
   "outputs": [
    {
     "data": {
      "image/png": "[encoded data removed]",
      "text/plain": [
       "<Figure size 432x288 with 1 Axes>"
      ]
     },
     "metadata": {
      "needs_background": "light"
     },
     "output_type": "display_data"
    }
   ],
   "source": [
    "color = [\"red\",\"pink\",\"orange\",\"gray\"]\n",
    "fig, ax1 = plt.subplots(1)\n",
    "for i in range(4):\n",
    "    ax1.scatter(X[y==i, 0], X[y==i, 1]\n",
    "           ,marker='o' #点的形状\n",
    "           ,s=8 #点的大小\n",
    "           ,c=color[i]\n",
    "           )\n",
    "plt.show()\n"
   ]
  },
  {
   "cell_type": "markdown",
   "metadata": {},
   "source": [
    "# 开始建模"
   ]
  },
  {
   "cell_type": "code",
   "execution_count": 7,
   "metadata": {},
   "outputs": [],
   "source": [
    "from sklearn.cluster import KMeans"
   ]
  },
  {
   "cell_type": "code",
   "execution_count": 8,
   "metadata": {},
   "outputs": [],
   "source": [
    "n_clusters = 3\n",
    "cluster = KMeans(n_clusters=n_clusters, random_state=0).fit(X)"
   ]
  },
  {
   "cell_type": "code",
   "execution_count": 9,
   "metadata": {},
   "outputs": [
    {
     "data": {
      "text/plain": [
       "array([2, 2, 0, 1, 0, 1, 0, 0, 0, 0, 2, 2, 0, 1, 0, 2, 0, 2, 1, 0, 0, 0,\n",
       "       0, 1, 0, 0, 1, 1, 0, 0, 2, 1, 0, 2, 0, 2, 0, 0, 2, 0, 0, 0, 1, 0,\n",
       "       0, 2, 0, 0, 1, 1, 1, 0, 0, 0, 2, 0, 0, 0, 0, 0, 1, 1, 0, 0, 1, 0,\n",
       "       2, 0, 0, 0, 2, 0, 0, 2, 0, 0, 2, 0, 0, 0, 1, 1, 0, 1, 1, 0, 0, 1,\n",
       "       0, 0, 1, 2, 0, 0, 1, 2, 2, 0, 2, 1, 1, 2, 1, 0, 1, 0, 0, 1, 1, 0,\n",
       "       0, 2, 1, 0, 1, 0, 1, 0, 1, 0, 0, 2, 2, 0, 0, 0, 1, 2, 2, 0, 1, 0,\n",
       "       0, 0, 0, 2, 1, 0, 1, 1, 0, 2, 0, 1, 1, 1, 0, 0, 2, 2, 0, 0, 1, 2,\n",
       "       1, 0, 0, 0, 0, 0, 0, 0, 0, 0, 1, 2, 2, 2, 0, 1, 2, 0, 0, 2, 1, 0,\n",
       "       0, 0, 0, 2, 0, 0, 1, 2, 2, 0, 0, 2, 2, 0, 1, 1, 2, 2, 0, 1, 0, 2,\n",
       "       2, 1, 2, 0, 1, 0, 0, 2, 0, 0, 2, 0, 0, 0, 0, 2, 0, 0, 0, 1, 0, 1,\n",
       "       0, 2, 0, 0, 0, 0, 0, 1, 0, 1, 2, 0, 2, 0, 1, 1, 0, 2, 1, 2, 0, 0,\n",
       "       2, 2, 2, 2, 0, 0, 2, 0, 0, 1, 1, 0, 0, 1, 0, 0, 0, 1, 0, 1, 0, 0,\n",
       "       1, 0, 2, 2, 0, 0, 0, 0, 1, 1, 0, 1, 0, 2, 1, 2, 1, 2, 2, 1, 2, 1,\n",
       "       1, 0, 0, 0, 0, 0, 0, 0, 2, 1, 2, 2, 2, 0, 0, 0, 2, 0, 2, 2, 0, 2,\n",
       "       2, 0, 1, 2, 0, 0, 1, 1, 0, 2, 1, 1, 0, 2, 1, 1, 0, 0, 1, 0, 0, 2,\n",
       "       2, 1, 0, 2, 0, 1, 1, 0, 0, 0, 2, 0, 1, 1, 0, 1, 1, 1, 1, 2, 2, 0,\n",
       "       1, 0, 0, 2, 1, 0, 1, 0, 1, 0, 0, 0, 1, 0, 0, 2, 1, 2, 2, 2, 2, 2,\n",
       "       2, 0, 2, 1, 2, 1, 1, 0, 1, 0, 0, 0, 2, 1, 0, 1, 0, 2, 0, 0, 2, 0,\n",
       "       0, 1, 1, 2, 0, 0, 1, 0, 0, 2, 2, 0, 2, 0, 0, 2, 0, 2, 0, 1, 2, 1,\n",
       "       0, 0, 1, 0, 0, 1, 2, 0, 1, 1, 0, 0, 0, 0, 2, 1, 2, 0, 1, 2, 2, 2,\n",
       "       0, 1, 0, 2, 0, 0, 0, 0, 2, 0, 0, 0, 0, 0, 0, 2, 0, 0, 2, 0, 1, 0,\n",
       "       1, 0, 0, 0, 1, 1, 1, 0, 0, 0, 2, 0, 1, 0, 2, 1, 2, 1, 2, 0, 1, 1,\n",
       "       2, 0, 0, 2, 0, 0, 0, 2, 0, 1, 0, 0, 2, 2, 2, 0])"
      ]
     },
     "execution_count": 9,
     "metadata": {},
     "output_type": "execute_result"
    }
   ],
   "source": [
    "# 重要属性labels，查看聚类好的类别，每个样本所对应的类\n",
    "y_pred = cluster.labels_\n",
    "y_pred"
   ]
  },
  {
   "cell_type": "code",
   "execution_count": 10,
   "metadata": {},
   "outputs": [
    {
     "data": {
      "text/plain": [
       "array([2, 2, 0, 1, 0, 1, 0, 0, 0, 0, 2, 2, 0, 1, 0, 2, 0, 2, 1, 0, 0, 0,\n",
       "       0, 1, 0, 0, 1, 1, 0, 0, 2, 1, 0, 2, 0, 2, 0, 0, 2, 0, 0, 0, 1, 0,\n",
       "       0, 2, 0, 0, 1, 1, 1, 0, 0, 0, 2, 0, 0, 0, 0, 0, 1, 1, 0, 0, 1, 0,\n",
       "       2, 0, 0, 0, 2, 0, 0, 2, 0, 0, 2, 0, 0, 0, 1, 1, 0, 1, 1, 0, 0, 1,\n",
       "       0, 0, 1, 2, 0, 0, 1, 2, 2, 0, 2, 1, 1, 2, 1, 0, 1, 0, 0, 1, 1, 0,\n",
       "       0, 2, 1, 0, 1, 0, 1, 0, 1, 0, 0, 2, 2, 0, 0, 0, 1, 2, 2, 0, 1, 0,\n",
       "       0, 0, 0, 2, 1, 0, 1, 1, 0, 2, 0, 1, 1, 1, 0, 0, 2, 2, 0, 0, 1, 2,\n",
       "       1, 0, 0, 0, 0, 0, 0, 0, 0, 0, 1, 2, 2, 2, 0, 1, 2, 0, 0, 2, 1, 0,\n",
       "       0, 0, 0, 2, 0, 0, 1, 2, 2, 0, 0, 2, 2, 0, 1, 1, 2, 2, 0, 1, 0, 2,\n",
       "       2, 1, 2, 0, 1, 0, 0, 2, 0, 0, 2, 0, 0, 0, 0, 2, 0, 0, 0, 1, 0, 1,\n",
       "       0, 2, 0, 0, 0, 0, 0, 1, 0, 1, 2, 0, 2, 0, 1, 1, 0, 2, 1, 2, 0, 0,\n",
       "       2, 2, 2, 2, 0, 0, 2, 0, 0, 1, 1, 0, 0, 1, 0, 0, 0, 1, 0, 1, 0, 0,\n",
       "       1, 0, 2, 2, 0, 0, 0, 0, 1, 1, 0, 1, 0, 2, 1, 2, 1, 2, 2, 1, 2, 1,\n",
       "       1, 0, 0, 0, 0, 0, 0, 0, 2, 1, 2, 2, 2, 0, 0, 0, 2, 0, 2, 2, 0, 2,\n",
       "       2, 0, 1, 2, 0, 0, 1, 1, 0, 2, 1, 1, 0, 2, 1, 1, 0, 0, 1, 0, 0, 2,\n",
       "       2, 1, 0, 2, 0, 1, 1, 0, 0, 0, 2, 0, 1, 1, 0, 1, 1, 1, 1, 2, 2, 0,\n",
       "       1, 0, 0, 2, 1, 0, 1, 0, 1, 0, 0, 0, 1, 0, 0, 2, 1, 2, 2, 2, 2, 2,\n",
       "       2, 0, 2, 1, 2, 1, 1, 0, 1, 0, 0, 0, 2, 1, 0, 1, 0, 2, 0, 0, 2, 0,\n",
       "       0, 1, 1, 2, 0, 0, 1, 0, 0, 2, 2, 0, 2, 0, 0, 2, 0, 2, 0, 1, 2, 1,\n",
       "       0, 0, 1, 0, 0, 1, 2, 0, 1, 1, 0, 0, 0, 0, 2, 1, 2, 0, 1, 2, 2, 2,\n",
       "       0, 1, 0, 2, 0, 0, 0, 0, 2, 0, 0, 0, 0, 0, 0, 2, 0, 0, 2, 0, 1, 0,\n",
       "       1, 0, 0, 0, 1, 1, 1, 0, 0, 0, 2, 0, 1, 0, 2, 1, 2, 1, 2, 0, 1, 1,\n",
       "       2, 0, 0, 2, 0, 0, 0, 2, 0, 1, 0, 0, 2, 2, 2, 0])"
      ]
     },
     "execution_count": 10,
     "metadata": {},
     "output_type": "execute_result"
    }
   ],
   "source": [
    "# kmeans 因为并不需要建立模型或者预测结果，因此我们只需要fit就能获得聚类结果 了\n",
    "# kmeans 也有借口predict和fit_predict ,表示学习数据X并对X的类进行预测\n",
    "# 但所得到的结果和我们不调用predict，直接fit之后调用属性labels一摸一样\n",
    "pre = cluster.fit_predict(X)\n",
    "pre"
   ]
  },
  {
   "cell_type": "code",
   "execution_count": 11,
   "metadata": {
    "collapsed": true
   },
   "outputs": [
    {
     "data": {
      "text/plain": [
       "array([ True,  True,  True,  True,  True,  True,  True,  True,  True,\n",
       "        True,  True,  True,  True,  True,  True,  True,  True,  True,\n",
       "        True,  True,  True,  True,  True,  True,  True,  True,  True,\n",
       "        True,  True,  True,  True,  True,  True,  True,  True,  True,\n",
       "        True,  True,  True,  True,  True,  True,  True,  True,  True,\n",
       "        True,  True,  True,  True,  True,  True,  True,  True,  True,\n",
       "        True,  True,  True,  True,  True,  True,  True,  True,  True,\n",
       "        True,  True,  True,  True,  True,  True,  True,  True,  True,\n",
       "        True,  True,  True,  True,  True,  True,  True,  True,  True,\n",
       "        True,  True,  True,  True,  True,  True,  True,  True,  True,\n",
       "        True,  True,  True,  True,  True,  True,  True,  True,  True,\n",
       "        True,  True,  True,  True,  True,  True,  True,  True,  True,\n",
       "        True,  True,  True,  True,  True,  True,  True,  True,  True,\n",
       "        True,  True,  True,  True,  True,  True,  True,  True,  True,\n",
       "        True,  True,  True,  True,  True,  True,  True,  True,  True,\n",
       "        True,  True,  True,  True,  True,  True,  True,  True,  True,\n",
       "        True,  True,  True,  True,  True,  True,  True,  True,  True,\n",
       "        True,  True,  True,  True,  True,  True,  True,  True,  True,\n",
       "        True,  True,  True,  True,  True,  True,  True,  True,  True,\n",
       "        True,  True,  True,  True,  True,  True,  True,  True,  True,\n",
       "        True,  True,  True,  True,  True,  True,  True,  True,  True,\n",
       "        True,  True,  True,  True,  True,  True,  True,  True,  True,\n",
       "        True,  True,  True,  True,  True,  True,  True,  True,  True,\n",
       "        True,  True,  True,  True,  True,  True,  True,  True,  True,\n",
       "        True,  True,  True,  True,  True,  True,  True,  True,  True,\n",
       "        True,  True,  True,  True,  True,  True,  True,  True,  True,\n",
       "        True,  True,  True,  True,  True,  True,  True,  True,  True,\n",
       "        True,  True,  True,  True,  True,  True,  True,  True,  True,\n",
       "        True,  True,  True,  True,  True,  True,  True,  True,  True,\n",
       "        True,  True,  True,  True,  True,  True,  True,  True,  True,\n",
       "        True,  True,  True,  True,  True,  True,  True,  True,  True,\n",
       "        True,  True,  True,  True,  True,  True,  True,  True,  True,\n",
       "        True,  True,  True,  True,  True,  True,  True,  True,  True,\n",
       "        True,  True,  True,  True,  True,  True,  True,  True,  True,\n",
       "        True,  True,  True,  True,  True,  True,  True,  True,  True,\n",
       "        True,  True,  True,  True,  True,  True,  True,  True,  True,\n",
       "        True,  True,  True,  True,  True,  True,  True,  True,  True,\n",
       "        True,  True,  True,  True,  True,  True,  True,  True,  True,\n",
       "        True,  True,  True,  True,  True,  True,  True,  True,  True,\n",
       "        True,  True,  True,  True,  True,  True,  True,  True,  True,\n",
       "        True,  True,  True,  True,  True,  True,  True,  True,  True,\n",
       "        True,  True,  True,  True,  True,  True,  True,  True,  True,\n",
       "        True,  True,  True,  True,  True,  True,  True,  True,  True,\n",
       "        True,  True,  True,  True,  True,  True,  True,  True,  True,\n",
       "        True,  True,  True,  True,  True,  True,  True,  True,  True,\n",
       "        True,  True,  True,  True,  True,  True,  True,  True,  True,\n",
       "        True,  True,  True,  True,  True,  True,  True,  True,  True,\n",
       "        True,  True,  True,  True,  True,  True,  True,  True,  True,\n",
       "        True,  True,  True,  True,  True,  True,  True,  True,  True,\n",
       "        True,  True,  True,  True,  True,  True,  True,  True,  True,\n",
       "        True,  True,  True,  True,  True,  True,  True,  True,  True,\n",
       "        True,  True,  True,  True,  True,  True,  True,  True,  True,\n",
       "        True,  True,  True,  True,  True,  True,  True,  True,  True,\n",
       "        True,  True,  True,  True,  True,  True,  True,  True,  True,\n",
       "        True,  True,  True,  True,  True,  True,  True,  True,  True,\n",
       "        True,  True,  True,  True,  True])"
      ]
     },
     "execution_count": 11,
     "metadata": {},
     "output_type": "execute_result"
    }
   ],
   "source": [
    "pre == y_pred"
   ]
  },
  {
   "cell_type": "markdown",
   "metadata": {},
   "source": [
    "我们什么时候需要predict呢？当数据量特别大的时候<br>\n",
    "其实我们不必使用所有的数据来寻找质心，少量的数据就可以帮助我们确定质心了<br>\n",
    "当我们数据量特别大的时候，我们可以使用部分数据来帮助我们确定质心<br>\n",
    "剩下的数据的聚类结果，可以使用predict来调用<br>"
   ]
  },
  {
   "cell_type": "code",
   "execution_count": 12,
   "metadata": {},
   "outputs": [
    {
     "data": {
      "text/plain": [
       "array([ True,  True,  True,  True,  True,  True,  True,  True,  True,\n",
       "        True,  True,  True,  True,  True,  True,  True,  True,  True,\n",
       "        True,  True,  True,  True,  True,  True,  True,  True,  True,\n",
       "        True,  True,  True,  True,  True,  True,  True,  True,  True,\n",
       "        True,  True,  True,  True,  True,  True,  True,  True,  True,\n",
       "        True,  True,  True,  True,  True,  True,  True,  True,  True,\n",
       "        True,  True,  True,  True,  True,  True,  True,  True,  True,\n",
       "        True,  True,  True,  True,  True,  True,  True,  True,  True,\n",
       "        True,  True,  True,  True,  True,  True,  True,  True,  True,\n",
       "        True,  True,  True,  True,  True,  True,  True,  True,  True,\n",
       "        True,  True,  True,  True,  True,  True,  True,  True,  True,\n",
       "        True,  True,  True,  True,  True,  True,  True,  True,  True,\n",
       "        True,  True,  True,  True,  True,  True,  True,  True,  True,\n",
       "        True,  True,  True,  True,  True,  True,  True,  True,  True,\n",
       "        True,  True,  True,  True,  True,  True,  True,  True,  True,\n",
       "        True,  True,  True,  True,  True,  True,  True,  True,  True,\n",
       "        True,  True,  True,  True,  True,  True,  True,  True,  True,\n",
       "        True,  True,  True,  True,  True,  True,  True,  True,  True,\n",
       "        True,  True,  True,  True,  True,  True,  True,  True,  True,\n",
       "        True,  True,  True,  True,  True,  True,  True,  True,  True,\n",
       "        True,  True,  True,  True,  True, False,  True,  True,  True,\n",
       "        True,  True,  True,  True,  True,  True,  True,  True,  True,\n",
       "        True,  True,  True,  True,  True,  True,  True,  True,  True,\n",
       "        True,  True,  True,  True,  True,  True,  True,  True,  True,\n",
       "        True,  True,  True,  True,  True,  True,  True,  True,  True,\n",
       "        True,  True,  True,  True,  True,  True,  True,  True,  True,\n",
       "        True,  True,  True,  True,  True,  True,  True,  True,  True,\n",
       "        True,  True,  True,  True,  True,  True,  True,  True,  True,\n",
       "        True,  True,  True,  True,  True,  True,  True,  True,  True,\n",
       "        True,  True,  True,  True,  True,  True,  True,  True,  True,\n",
       "        True,  True,  True,  True,  True,  True,  True,  True,  True,\n",
       "        True,  True,  True,  True,  True,  True,  True,  True,  True,\n",
       "        True,  True,  True,  True,  True,  True,  True,  True,  True,\n",
       "        True,  True,  True,  True,  True,  True,  True,  True,  True,\n",
       "        True,  True,  True,  True,  True,  True,  True,  True,  True,\n",
       "        True,  True,  True,  True,  True,  True,  True,  True,  True,\n",
       "        True,  True,  True,  True,  True,  True,  True,  True,  True,\n",
       "        True,  True,  True,  True,  True,  True,  True,  True,  True,\n",
       "        True,  True,  True,  True,  True,  True,  True,  True,  True,\n",
       "        True,  True,  True,  True,  True,  True,  True,  True,  True,\n",
       "        True,  True,  True,  True,  True,  True,  True,  True,  True,\n",
       "        True,  True,  True,  True,  True,  True,  True,  True,  True,\n",
       "        True,  True,  True,  True,  True,  True,  True,  True,  True,\n",
       "        True,  True,  True,  True,  True,  True,  True,  True,  True,\n",
       "        True,  True,  True,  True,  True,  True,  True,  True,  True,\n",
       "        True,  True,  True,  True,  True,  True,  True,  True,  True,\n",
       "        True,  True,  True,  True,  True,  True,  True,  True,  True,\n",
       "        True,  True,  True,  True,  True,  True,  True,  True,  True,\n",
       "        True,  True,  True,  True,  True,  True,  True,  True,  True,\n",
       "        True,  True,  True,  True,  True,  True,  True,  True,  True,\n",
       "        True,  True,  True,  True,  True,  True,  True,  True,  True,\n",
       "        True,  True,  True,  True,  True,  True,  True,  True,  True,\n",
       "        True,  True,  True,  True,  True,  True,  True,  True,  True,\n",
       "        True,  True,  True,  True,  True,  True,  True,  True,  True,\n",
       "        True,  True,  True,  True,  True,  True,  True,  True,  True,\n",
       "        True,  True,  True,  True,  True])"
      ]
     },
     "execution_count": 12,
     "metadata": {},
     "output_type": "execute_result"
    }
   ],
   "source": [
    "cluster_smallsub = KMeans(n_clusters=n_clusters, random_state=0).fit(X[:200])\n",
    "y_pred_ = cluster_smallsub.predict(X)\n",
    "y_pred == y_pred_"
   ]
  },
  {
   "cell_type": "code",
   "execution_count": 13,
   "metadata": {},
   "outputs": [
    {
     "data": {
      "text/plain": [
       "array([[-8.09286791, -3.50997357],\n",
       "       [-1.54234022,  4.43517599],\n",
       "       [-7.0877462 , -8.08923534]])"
      ]
     },
     "execution_count": 13,
     "metadata": {},
     "output_type": "execute_result"
    }
   ],
   "source": [
    "centroid = cluster.cluster_centers_\n",
    "centroid"
   ]
  },
  {
   "cell_type": "code",
   "execution_count": 14,
   "metadata": {},
   "outputs": [
    {
     "data": {
      "text/plain": [
       "(3, 2)"
      ]
     },
     "execution_count": 14,
     "metadata": {},
     "output_type": "execute_result"
    }
   ],
   "source": [
    "centroid.shape"
   ]
  },
  {
   "cell_type": "code",
   "execution_count": 15,
   "metadata": {},
   "outputs": [
    {
     "data": {
      "text/plain": [
       "1903.5342237665059"
      ]
     },
     "execution_count": 15,
     "metadata": {},
     "output_type": "execute_result"
    }
   ],
   "source": [
    "inertia = cluster.inertia_\n",
    "inertia"
   ]
  },
  {
   "cell_type": "code",
   "execution_count": 16,
   "metadata": {},
   "outputs": [
    {
     "data": {
      "image/png": "[encoded data removed]",
      "text/plain": [
       "<Figure size 432x288 with 1 Axes>"
      ]
     },
     "metadata": {
      "needs_background": "light"
     },
     "output_type": "display_data"
    }
   ],
   "source": [
    "color = [\"red\",\"pink\",\"orange\",\"gray\"]\n",
    "fig, ax1 = plt.subplots(1)\n",
    "for i in range(n_clusters):\n",
    "    # 第i类的x0和x1\n",
    "    ax1.scatter(X[y_pred==i, 0], X[y_pred==i, 1]\n",
    "           ,marker='o'\n",
    "           ,s=8\n",
    "           ,c=color[i]\n",
    "           )\n",
    "ax1.scatter(centroid[:,0],centroid[:,1]\n",
    "           ,marker=\"x\"\n",
    "           ,s=15\n",
    "           ,c=\"black\")\n",
    "plt.show()"
   ]
  },
  {
   "cell_type": "code",
   "execution_count": 22,
   "metadata": {},
   "outputs": [
    {
     "data": {
      "text/plain": [
       "908.3855684760603"
      ]
     },
     "execution_count": 22,
     "metadata": {},
     "output_type": "execute_result"
    }
   ],
   "source": [
    "# 聚类效果越好，inertia_越小\n",
    "n_clusters = 4\n",
    "cluster_ = KMeans(n_clusters=n_clusters, random_state=0).fit(X)\n",
    "inertia_ = cluster_.inertia_\n",
    "inertia_"
   ]
  },
  {
   "cell_type": "code",
   "execution_count": 21,
   "metadata": {},
   "outputs": [],
   "source": [
    "from sklearn.metrics import accuracy_score"
   ]
  },
  {
   "cell_type": "code",
   "execution_count": 28,
   "metadata": {},
   "outputs": [
    {
     "data": {
      "text/plain": [
       "array([2, 2, 1, 0, 3, 0, 3, 3, 1, 3, 2, 2, 3, 0, 3, 2, 1, 2, 0, 3, 1, 1,\n",
       "       3, 0, 3, 3, 0, 0, 1, 3, 2, 0, 3, 2, 3, 2, 1, 1, 2, 1, 3, 1, 0, 3,\n",
       "       3, 2, 1, 3, 0, 0, 0, 1, 1, 3, 2, 1, 1, 1, 1, 3, 0, 0, 1, 3, 0, 3,\n",
       "       2, 3, 1, 1, 2, 1, 3, 2, 3, 3, 2, 3, 3, 1, 0, 0, 1, 0, 0, 1, 1, 0,\n",
       "       1, 1, 0, 2, 1, 3, 0, 2, 2, 3, 2, 0, 0, 2, 0, 1, 0, 3, 3, 0, 0, 1,\n",
       "       3, 2, 0, 1, 0, 1, 0, 3, 0, 3, 1, 2, 2, 1, 3, 1, 0, 2, 2, 3, 0, 1,\n",
       "       1, 1, 1, 2, 0, 3, 0, 0, 3, 2, 3, 0, 0, 0, 3, 3, 2, 2, 1, 1, 0, 2,\n",
       "       0, 1, 1, 1, 1, 1, 1, 1, 1, 1, 0, 2, 2, 2, 3, 0, 2, 1, 3, 2, 0, 1,\n",
       "       1, 1, 1, 2, 3, 1, 0, 2, 2, 1, 3, 2, 2, 3, 0, 0, 2, 2, 3, 0, 3, 2,\n",
       "       2, 0, 2, 1, 0, 3, 3, 2, 3, 1, 2, 3, 1, 3, 1, 2, 3, 3, 3, 0, 1, 0,\n",
       "       3, 2, 1, 3, 1, 1, 1, 0, 3, 0, 2, 1, 2, 1, 0, 0, 1, 2, 0, 2, 3, 1,\n",
       "       2, 2, 2, 2, 3, 1, 2, 1, 3, 0, 0, 3, 3, 0, 1, 3, 1, 0, 3, 0, 1, 1,\n",
       "       0, 3, 2, 2, 1, 1, 1, 3, 0, 0, 3, 0, 1, 2, 0, 2, 0, 2, 2, 0, 2, 0,\n",
       "       0, 3, 1, 1, 1, 3, 3, 3, 2, 0, 2, 1, 2, 3, 2, 3, 2, 1, 2, 2, 1, 2,\n",
       "       2, 1, 0, 2, 3, 3, 0, 0, 3, 2, 0, 0, 3, 2, 0, 0, 3, 1, 0, 1, 3, 2,\n",
       "       2, 0, 1, 2, 3, 0, 0, 3, 3, 1, 2, 3, 0, 0, 1, 0, 0, 0, 0, 2, 2, 3,\n",
       "       0, 1, 3, 2, 0, 1, 0, 3, 0, 1, 3, 1, 0, 3, 3, 2, 0, 2, 2, 2, 2, 2,\n",
       "       2, 1, 2, 0, 2, 0, 0, 1, 0, 3, 1, 2, 2, 0, 1, 0, 3, 2, 3, 1, 2, 1,\n",
       "       1, 0, 0, 2, 1, 3, 0, 3, 3, 2, 2, 3, 2, 1, 1, 2, 1, 2, 1, 0, 2, 0,\n",
       "       1, 3, 0, 1, 3, 0, 2, 3, 0, 0, 1, 3, 1, 3, 2, 0, 2, 3, 0, 2, 2, 2,\n",
       "       1, 0, 3, 2, 3, 3, 1, 1, 2, 3, 3, 3, 3, 3, 3, 2, 3, 1, 2, 3, 0, 3,\n",
       "       0, 3, 1, 3, 0, 0, 0, 1, 3, 1, 2, 1, 0, 3, 2, 0, 2, 0, 2, 3, 0, 0,\n",
       "       2, 1, 3, 2, 1, 1, 1, 2, 3, 0, 1, 3, 2, 2, 2, 3])"
      ]
     },
     "execution_count": 28,
     "metadata": {},
     "output_type": "execute_result"
    }
   ],
   "source": [
    "y"
   ]
  },
  {
   "cell_type": "code",
   "execution_count": 29,
   "metadata": {},
   "outputs": [
    {
     "data": {
      "text/plain": [
       "array([3, 3, 0, 1, 2, 1, 2, 2, 2, 2, 3, 3, 2, 1, 2, 3, 2, 3, 1, 2, 0, 0,\n",
       "       2, 1, 2, 2, 1, 1, 0, 2, 3, 1, 2, 3, 2, 3, 0, 0, 3, 0, 2, 0, 1, 2,\n",
       "       2, 3, 0, 2, 1, 1, 1, 0, 0, 2, 3, 0, 0, 0, 0, 2, 1, 1, 0, 2, 1, 2,\n",
       "       3, 2, 0, 0, 3, 0, 2, 3, 2, 2, 3, 2, 2, 0, 1, 1, 0, 1, 1, 0, 0, 1,\n",
       "       0, 0, 1, 3, 0, 2, 1, 3, 3, 2, 3, 1, 1, 3, 1, 0, 1, 2, 2, 1, 1, 0,\n",
       "       2, 3, 1, 0, 1, 0, 1, 2, 1, 2, 0, 3, 3, 0, 2, 0, 1, 3, 3, 2, 1, 0,\n",
       "       0, 0, 0, 3, 1, 2, 1, 1, 2, 3, 2, 1, 1, 1, 2, 2, 3, 3, 0, 0, 1, 3,\n",
       "       1, 0, 0, 0, 0, 0, 0, 0, 0, 0, 1, 3, 3, 3, 2, 1, 3, 0, 2, 3, 1, 0,\n",
       "       0, 0, 0, 3, 2, 0, 1, 3, 3, 0, 2, 3, 3, 2, 1, 1, 3, 3, 2, 1, 2, 3,\n",
       "       3, 1, 3, 0, 1, 2, 2, 3, 2, 0, 3, 2, 0, 2, 0, 3, 2, 2, 2, 1, 0, 1,\n",
       "       2, 3, 0, 2, 0, 0, 0, 1, 0, 1, 3, 0, 3, 0, 1, 1, 0, 3, 1, 3, 2, 0,\n",
       "       3, 3, 3, 3, 2, 0, 3, 0, 2, 1, 1, 2, 2, 1, 0, 2, 0, 1, 2, 1, 0, 0,\n",
       "       1, 2, 3, 3, 0, 0, 0, 2, 1, 1, 2, 1, 0, 3, 1, 3, 1, 3, 3, 1, 3, 1,\n",
       "       1, 2, 0, 0, 0, 2, 2, 0, 3, 1, 3, 3, 3, 2, 0, 2, 3, 0, 3, 3, 0, 3,\n",
       "       3, 0, 1, 3, 2, 2, 1, 1, 0, 3, 1, 1, 2, 3, 1, 1, 2, 0, 1, 0, 2, 3,\n",
       "       3, 1, 0, 3, 2, 1, 1, 2, 2, 2, 3, 2, 1, 1, 0, 1, 1, 1, 1, 3, 3, 2,\n",
       "       1, 0, 2, 3, 1, 0, 1, 2, 1, 0, 2, 0, 1, 2, 2, 3, 1, 3, 3, 3, 3, 3,\n",
       "       3, 0, 3, 1, 3, 1, 1, 0, 1, 2, 0, 0, 3, 1, 0, 1, 2, 3, 0, 0, 3, 0,\n",
       "       0, 1, 1, 3, 0, 2, 1, 2, 2, 3, 3, 2, 3, 0, 0, 3, 0, 3, 0, 1, 3, 1,\n",
       "       0, 2, 1, 0, 2, 1, 3, 2, 1, 1, 0, 2, 0, 2, 3, 1, 3, 2, 1, 3, 3, 3,\n",
       "       0, 1, 2, 3, 2, 2, 0, 0, 3, 2, 2, 2, 2, 2, 2, 3, 2, 0, 3, 2, 1, 2,\n",
       "       1, 2, 0, 0, 1, 1, 1, 0, 2, 0, 3, 0, 1, 2, 3, 1, 3, 1, 3, 2, 1, 1,\n",
       "       3, 0, 2, 3, 0, 0, 0, 3, 2, 1, 0, 2, 3, 3, 3, 2])"
      ]
     },
     "execution_count": 29,
     "metadata": {},
     "output_type": "execute_result"
    }
   ],
   "source": [
    "cluster_.predict(X)"
   ]
  },
  {
   "cell_type": "code",
   "execution_count": 35,
   "metadata": {},
   "outputs": [
    {
     "data": {
      "image/png": "[encoded data removed]",
      "text/plain": [
       "<Figure size 432x288 with 2 Axes>"
      ]
     },
     "metadata": {
      "needs_background": "light"
     },
     "output_type": "display_data"
    }
   ],
   "source": [
    "fig = plt.subplot(121)\n",
    "colors = ['red','green','blue','pink']\n",
    "labels = []\n",
    "for i in range(0,4):\n",
    "    labels.append(plt.scatter(X[:,0][y==i],X[:,1][y==i],color=colors[i]))\n",
    "plt.legend((labels[0],labels[1],labels[2],labels[3]),('label0','label1','label2','label3'))\n",
    "\n",
    "\n",
    "fig = plt.subplot(122)\n",
    "colors = ['red','green','blue','pink']\n",
    "labels = []\n",
    "for i in range(0,4):\n",
    "    labels.append(plt.scatter(X[:,0][cluster_.predict(X)==i],X[:,1][cluster_.predict(X)==i],color=colors[i]))\n",
    "plt.legend((labels[0],labels[1],labels[2],labels[3]),('label0','label1','label2','label3'))\n",
    "\n",
    "plt.show()"
   ]
  },
  {
   "cell_type": "markdown",
   "metadata": {},
   "source": [
    "我们对预测后的数据进行一个新的频率显示，对比我们之前提到的原始频率，我们发现预测后的数据并没有做到一一对应。因为我们模型训练时，并没有指定，因此我们需要做一步校正。"
   ]
  },
  {
   "cell_type": "code",
   "execution_count": 37,
   "metadata": {},
   "outputs": [],
   "source": [
    "def check(Y):\n",
    "    for i in range(0,len(Y)):\n",
    "        if Y[i] == 0 :\n",
    "            Y[i] = 1\n",
    "        elif Y[i] == 1:\n",
    "            Y[i] = 0\n",
    "        elif Y[i] == 2:\n",
    "            Y[i] = 3\n",
    "        elif Y[i] == 3:\n",
    "            Y[i] = 2\n",
    "    return Y"
   ]
  },
  {
   "cell_type": "code",
   "execution_count": 38,
   "metadata": {},
   "outputs": [],
   "source": [
    "y_predict = check(cluster_.predict(X))"
   ]
  },
  {
   "cell_type": "code",
   "execution_count": 39,
   "metadata": {},
   "outputs": [
    {
     "data": {
      "text/plain": [
       "0.978"
      ]
     },
     "execution_count": 39,
     "metadata": {},
     "output_type": "execute_result"
    }
   ],
   "source": [
    "accuracy_score(y,y_predict)"
   ]
  },
  {
   "cell_type": "markdown",
   "metadata": {},
   "source": [
    "经过校正后，我们发现聚类的结果还是不错的，但是我们绝不多数情况下是获取不了真实数据的标签labels的，所以我们要采取其他方法来评估聚类的效果"
   ]
  },
  {
   "cell_type": "code",
   "execution_count": 18,
   "metadata": {},
   "outputs": [
    {
     "data": {
      "text/plain": [
       "811.0952123653016"
      ]
     },
     "execution_count": 18,
     "metadata": {},
     "output_type": "execute_result"
    }
   ],
   "source": [
    "n_clusters = 5\n",
    "cluster_ = KMeans(n_clusters=n_clusters, random_state=0).fit(X)\n",
    "inertia_ = cluster_.inertia_\n",
    "inertia_\n"
   ]
  },
  {
   "cell_type": "code",
   "execution_count": 19,
   "metadata": {},
   "outputs": [
    {
     "data": {
      "text/plain": [
       "728.2827697678249"
      ]
     },
     "execution_count": 19,
     "metadata": {},
     "output_type": "execute_result"
    }
   ],
   "source": [
    "n_clusters = 6\n",
    "cluster_ = KMeans(n_clusters=n_clusters, random_state=0).fit(X)\n",
    "inertia_ = cluster_.inertia_\n",
    "inertia_\n"
   ]
  },
  {
   "cell_type": "markdown",
   "metadata": {},
   "source": [
    "# 评估指标"
   ]
  },
  {
   "cell_type": "markdown",
   "metadata": {},
   "source": [
    "簇内差异小，簇外差异大"
   ]
  },
  {
   "cell_type": "markdown",
   "metadata": {},
   "source": [
    "## 轮廓系数"
   ]
  },
  {
   "cell_type": "code",
   "execution_count": 40,
   "metadata": {},
   "outputs": [],
   "source": [
    "from sklearn.metrics import silhouette_score\n",
    "from sklearn.metrics import silhouette_samples"
   ]
  },
  {
   "cell_type": "code",
   "execution_count": 41,
   "metadata": {},
   "outputs": [
    {
     "data": {
      "text/plain": [
       "0.5882004012129721"
      ]
     },
     "execution_count": 41,
     "metadata": {},
     "output_type": "execute_result"
    }
   ],
   "source": [
    "silhouette_score(X,y_pred)  # 分三簇的结果"
   ]
  },
  {
   "cell_type": "code",
   "execution_count": 42,
   "metadata": {},
   "outputs": [
    {
     "data": {
      "text/plain": [
       "0.6505186632729437"
      ]
     },
     "execution_count": 42,
     "metadata": {},
     "output_type": "execute_result"
    }
   ],
   "source": [
    "silhouette_score(X,cluster_.labels_) # 分四簇的结果"
   ]
  },
  {
   "cell_type": "markdown",
   "metadata": {},
   "source": [
    "我们可以发现分四簇的结果比分三簇的结果好"
   ]
  },
  {
   "cell_type": "code",
   "execution_count": 43,
   "metadata": {},
   "outputs": [
    {
     "data": {
      "text/plain": [
       "array([ 0.62982017,  0.5034877 ,  0.56148795,  0.84881844,  0.56034142,\n",
       "        0.78740319,  0.39254042,  0.4424015 ,  0.48582704,  0.41586457,\n",
       "        0.62497924,  0.75540751,  0.50080674,  0.8452256 ,  0.54730432,\n",
       "        0.60232423,  0.54574988,  0.68789747,  0.86605921,  0.25389678,\n",
       "        0.49316173,  0.47993065,  0.2222642 ,  0.8096265 ,  0.54091189,\n",
       "        0.30638567,  0.88557311,  0.84050532,  0.52855895,  0.49260117,\n",
       "        0.65291019,  0.85602282,  0.47734375,  0.60418857,  0.44210292,\n",
       "        0.6835351 ,  0.44776257,  0.423086  ,  0.6350923 ,  0.4060121 ,\n",
       "        0.54540657,  0.5628461 ,  0.78366733,  0.37063114,  0.35132112,\n",
       "        0.74493029,  0.53691616,  0.36724842,  0.87717083,  0.79594363,\n",
       "        0.84641859,  0.38341344,  0.42043012,  0.4024608 ,  0.64639537,\n",
       "        0.46244151,  0.31853572,  0.10047008,  0.37909034,  0.56424494,\n",
       "        0.86153448,  0.82630007,  0.53288582,  0.35699772,  0.86994617,\n",
       "        0.52259763,  0.71296285,  0.5269434 ,  0.42375504,  0.3173951 ,\n",
       "        0.67512993,  0.47574584,  0.44493897,  0.70152025,  0.37911024,\n",
       "        0.44338293,  0.75528756,  0.23339973,  0.48832955,  0.36920643,\n",
       "        0.84872127,  0.87346766,  0.53069113,  0.85553096,  0.85764386,\n",
       "        0.47306874,  0.02036611,  0.83126042,  0.38759022,  0.49233068,\n",
       "        0.74566044,  0.60466216,  0.56741342,  0.43416703,  0.83602352,\n",
       "        0.72477786,  0.65632253,  0.53058775,  0.60023269,  0.77641023,\n",
       "        0.84703763,  0.70993659,  0.7801523 ,  0.46161604,  0.84373446,\n",
       "        0.39295281,  0.46052385,  0.88273449,  0.87440032,  0.48304623,\n",
       "        0.53380475,  0.75891465,  0.85876382,  0.38558097,  0.85795763,\n",
       "        0.39785899,  0.85219954,  0.53642823,  0.86038619,  0.43699704,\n",
       "        0.38829633,  0.54291415,  0.69030671,  0.43887074,  0.51384962,\n",
       "        0.51912781,  0.83667847,  0.76248539,  0.69612144,  0.51530997,\n",
       "        0.86167552,  0.55346107,  0.56205672,  0.49273512,  0.38805592,\n",
       "        0.57038854,  0.68677314,  0.20332654,  0.75659329,  0.82280178,\n",
       "        0.51078711,  0.56655943,  0.39855324,  0.87777997,  0.81846156,\n",
       "        0.85011915,  0.53745726,  0.48476499,  0.57083761,  0.62520973,\n",
       "        0.48791422,  0.57163867,  0.80710385,  0.75753237,  0.80107683,\n",
       "        0.50370862,  0.49411065,  0.56270422,  0.46054445,  0.46870708,\n",
       "        0.53443711,  0.52806612,  0.54696216,  0.38036632,  0.8439417 ,\n",
       "        0.43517732,  0.74914748,  0.64728736,  0.41663216,  0.8823285 ,\n",
       "        0.65599758,  0.56449485,  0.51988053,  0.62928512,  0.88015404,\n",
       "        0.56872777,  0.39189978,  0.49345531,  0.46686063,  0.59723997,\n",
       "        0.44721036,  0.30721342,  0.75113026,  0.50932716,  0.73578982,\n",
       "       -0.11420488,  0.41858652,  0.75882296,  0.7275962 , -0.04073665,\n",
       "        0.80153593,  0.87004395,  0.68206941,  0.43331808,  0.46482802,\n",
       "        0.84659276,  0.50866477,  0.68601103,  0.74449975,  0.83022338,\n",
       "        0.73707965,  0.27681202,  0.66098479,  0.28977719,  0.51863521,\n",
       "        0.63445046,  0.40559979,  0.14818081,  0.76068525,  0.23252498,\n",
       "        0.53021521,  0.47737535,  0.20930573,  0.73655361,  0.40050939,\n",
       "        0.38201296,  0.53131423,  0.8300432 ,  0.57416668,  0.83002234,\n",
       "        0.43809863,  0.72601129,  0.30355831,  0.36933954,  0.48245049,\n",
       "        0.50126688,  0.50360422,  0.87011861,  0.56950365,  0.83076761,\n",
       "        0.71764725,  0.53645163,  0.7001754 ,  0.50522187,  0.87888555,\n",
       "        0.77936165,  0.10535855,  0.73083257,  0.87808798,  0.66433392,\n",
       "        0.46478475,  0.37703473,  0.73374533,  0.74890043,  0.73918627,\n",
       "        0.63932594,  0.09590229,  0.56398421,  0.65471361,  0.32850826,\n",
       "        0.50686886,  0.82252268,  0.8784639 ,  0.50307722,  0.55480534,\n",
       "        0.87909816,  0.47641098,  0.31311959,  0.52686075,  0.88545307,\n",
       "        0.20448704,  0.80778118,  0.44642434,  0.40574811,  0.88056023,\n",
       "        0.4973487 ,  0.69311101,  0.72625355,  0.48589387,  0.4978385 ,\n",
       "        0.55313636,  0.50253656,  0.87260952,  0.86131163,  0.40383223,\n",
       "        0.86877735,  0.47545049,  0.55504965,  0.88434796,  0.70495153,\n",
       "        0.88081422,  0.73413228,  0.74319485,  0.86247661,  0.68152552,\n",
       "        0.87029291,  0.81761732,  0.55085702,  0.49102505,  0.55389601,\n",
       "        0.124766  ,  0.4404892 ,  0.53977082,  0.57674226,  0.52475521,\n",
       "        0.71693971,  0.59037229,  0.27134864,  0.55075649,  0.5305809 ,\n",
       "        0.45997724,  0.52098416,  0.69242901,  0.42370109,  0.55411474,\n",
       "        0.56138849,  0.53447704,  0.69329183,  0.54368936,  0.32886853,\n",
       "        0.86126399,  0.71469113,  0.49146367,  0.50494774,  0.82158862,\n",
       "        0.86861319,  0.54403438,  0.73940315,  0.81462808,  0.84352203,\n",
       "        0.48207009,  0.7354327 ,  0.78085872,  0.87875202,  0.04033208,\n",
       "        0.50804578,  0.80938918,  0.51061604,  0.38053425,  0.64455589,\n",
       "        0.67957545,  0.87709406,  0.54770971,  0.49617626,  0.06631062,\n",
       "        0.82052164,  0.85247897,  0.4986702 ,  0.41583248,  0.53794955,\n",
       "        0.73049329,  0.28601778,  0.87874615,  0.86432778,  0.53085921,\n",
       "        0.81504707,  0.80902757,  0.73654387,  0.79629133,  0.69825831,\n",
       "        0.71042076,  0.37753505,  0.87392688,  0.36052199,  0.53293388,\n",
       "        0.65652301,  0.8590337 ,  0.37778142,  0.88171647,  0.55744616,\n",
       "        0.72988524,  0.47205379,  0.25321102,  0.36665898,  0.87510459,\n",
       "        0.54567292,  0.4377203 ,  0.69836179,  0.88279947,  0.73712769,\n",
       "        0.7571288 ,  0.64200399,  0.71414246,  0.66105524,  0.64924985,\n",
       "       -0.03393189,  0.67879166,  0.87717775,  0.70483203,  0.81570721,\n",
       "        0.88445546,  0.42536337,  0.84352976,  0.19940384,  0.33446675,\n",
       "       -0.05200008,  0.63729057,  0.86077417,  0.29232998,  0.85936207,\n",
       "        0.01230106,  0.74072871,  0.54572786,  0.4226642 ,  0.75803727,\n",
       "        0.41490286,  0.47701084,  0.81796862,  0.80656788,  0.63246787,\n",
       "        0.43149716,  0.47554846,  0.67481449,  0.29491288,  0.47884262,\n",
       "        0.73531065,  0.74909774,  0.53905722,  0.60853703,  0.41799506,\n",
       "        0.26889856,  0.65941878,  0.57469934,  0.74695893,  0.53566443,\n",
       "        0.87031783,  0.55546256,  0.74959292,  0.52013136,  0.48602131,\n",
       "        0.84252024,  0.5553399 ,  0.32396765,  0.83121787,  0.6507822 ,\n",
       "        0.40589711,  0.81861161,  0.85537229,  0.51500612,  0.46370284,\n",
       "        0.35233694,  0.41423309,  0.66647621,  0.87838551,  0.55564776,\n",
       "        0.52172866,  0.80216634,  0.74626963,  0.70305507,  0.727976  ,\n",
       "        0.4315848 ,  0.71546113, -0.14042082,  0.70475791,  0.54510442,\n",
       "        0.49963818,  0.50497552,  0.5260391 ,  0.7371355 ,  0.39249758,\n",
       "        0.47181954,  0.51361169,  0.4902578 ,  0.42402416,  0.54710266,\n",
       "        0.42517899,  0.54612333,  0.40920498,  0.73864644,  0.5056526 ,\n",
       "        0.87463183,  0.41531738,  0.88324604,  0.4574416 ,  0.50326717,\n",
       "        0.56519891,  0.86397315,  0.84031419,  0.81795975,  0.55956891,\n",
       "        0.43032946,  0.28423933,  0.75002919,  0.53694244,  0.86418082,\n",
       "        0.50509088,  0.75702551,  0.85123063,  0.47073065,  0.85904201,\n",
       "        0.69214588,  0.32746785,  0.87507056,  0.77556871,  0.47820639,\n",
       "        0.37692453,  0.23345891,  0.46482472,  0.36325517,  0.17966353,\n",
       "        0.31925836,  0.67652463,  0.35889712,  0.87965911,  0.3907438 ,\n",
       "        0.5748237 ,  0.74655924,  0.57403918,  0.69733646,  0.52992071])"
      ]
     },
     "execution_count": 43,
     "metadata": {},
     "output_type": "execute_result"
    }
   ],
   "source": [
    "silhouette_samples(X,y_pred) # 每一个样本携带的轮廓系数"
   ]
  },
  {
   "cell_type": "markdown",
   "metadata": {},
   "source": [
    "## 卡林斯基-哈拉巴斯指数（CHI）"
   ]
  },
  {
   "cell_type": "code",
   "execution_count": 46,
   "metadata": {},
   "outputs": [],
   "source": [
    "from sklearn.metrics import calinski_harabasz_score"
   ]
  },
  {
   "cell_type": "code",
   "execution_count": 48,
   "metadata": {},
   "outputs": [
    {
     "data": {
      "text/plain": [
       "1809.991966958033"
      ]
     },
     "execution_count": 48,
     "metadata": {},
     "output_type": "execute_result"
    }
   ],
   "source": [
    "calinski_harabasz_score(X, y_pred)"
   ]
  },
  {
   "cell_type": "markdown",
   "metadata": {},
   "source": [
    "虽然calinski-Harabaz指数没有界，在凸型的数据上的聚类也会表现虚高。但是比起轮廓系数，它有一个巨大的优\n",
    "点，就是计算非常快速。"
   ]
  },
  {
   "cell_type": "markdown",
   "metadata": {},
   "source": [
    "# 基于评估指标选择n_clusters"
   ]
  },
  {
   "cell_type": "markdown",
   "metadata": {},
   "source": [
    "## 基于轮廓系数选择最佳的n_clusters"
   ]
  },
  {
   "cell_type": "markdown",
   "metadata": {},
   "source": [
    "### 自己实现"
   ]
  },
  {
   "cell_type": "code",
   "execution_count": 50,
   "metadata": {},
   "outputs": [],
   "source": [
    "from sklearn.cluster import KMeans\n",
    "from sklearn.metrics import silhouette_score,silhouette_samples\n",
    "import matplotlib.pyplot as plt\n",
    "import matplotlib.cm as cm\n",
    "import numpy as np\n",
    "import pandas as pd"
   ]
  },
  {
   "cell_type": "code",
   "execution_count": 51,
   "metadata": {},
   "outputs": [],
   "source": [
    "# 基于我们的轮廓系数来选择最佳的n_clusters\n",
    "# 知道每个聚出来的类的轮廓系数是什么，还想要一个各个类之间的轮廓系数的对比\n",
    "# 知道聚类完毕之后图像的分布是什么模样"
   ]
  },
  {
   "cell_type": "code",
   "execution_count": 52,
   "metadata": {},
   "outputs": [],
   "source": [
    "# 用来存储不同n_clusters下的轮廓系数\n",
    "silhouses = []"
   ]
  },
  {
   "cell_type": "code",
   "execution_count": 55,
   "metadata": {},
   "outputs": [],
   "source": [
    "for i in range(3,7):\n",
    "    cluster_s = KMeans(n_clusters=i,random_state=0).fit(X)\n",
    "    silhouse = silhouette_score(X,cluster_s.labels_)\n",
    "    silhouses.append(silhouse)"
   ]
  },
  {
   "cell_type": "code",
   "execution_count": 82,
   "metadata": {},
   "outputs": [
    {
     "data": {
      "image/png": "[encoded data removed]",
      "text/plain": [
       "<Figure size 432x288 with 1 Axes>"
      ]
     },
     "metadata": {
      "needs_background": "light"
     },
     "output_type": "display_data"
    }
   ],
   "source": [
    "#显示中文\n",
    "plt.rcParams['font.sans-serif'] = ['SimHei']\n",
    "#显示负号\n",
    "plt.rcParams['axes.unicode_minus'] = False\n",
    "fig_s = plt.figure()\n",
    "plt.plot(np.array(range(3,7)),silhouses)\n",
    "plt.title(\"不同n_clusters下的轮廓系数\")\n",
    "plt.show()"
   ]
  },
  {
   "cell_type": "markdown",
   "metadata": {},
   "source": [
    "### 菜菜pdf实现"
   ]
  },
  {
   "cell_type": "code",
   "execution_count": 86,
   "metadata": {},
   "outputs": [],
   "source": [
    "from sklearn.cluster import KMeans\n",
    "from sklearn.metrics import silhouette_samples, silhouette_score\n",
    "import matplotlib.pyplot as plt\n",
    "import matplotlib.cm as cm\n",
    "import numpy as np\n",
    "%matplotlib inline"
   ]
  },
  {
   "cell_type": "code",
   "execution_count": 87,
   "metadata": {},
   "outputs": [],
   "source": [
    "# 基于我们的轮廓系数来选择最佳的n_clusters\n",
    "# 知道每个聚出来的类的轮廓系数是什么，还想要一个各个类之间的轮廓系数的对比\n",
    "# 知道聚类完毕之后图像的分布是什么模样"
   ]
  },
  {
   "cell_type": "code",
   "execution_count": 88,
   "metadata": {},
   "outputs": [],
   "source": [
    "n_clusters = 4 # 先设定好我们要分成的簇数"
   ]
  },
  {
   "cell_type": "code",
   "execution_count": 89,
   "metadata": {},
   "outputs": [
    {
     "data": {
      "image/png": "[encoded data removed]",
      "text/plain": [
       "<Figure size 432x288 with 2 Axes>"
      ]
     },
     "metadata": {
      "needs_background": "light"
     },
     "output_type": "display_data"
    }
   ],
   "source": [
    "# 创建一个画布，画布上共有一行两列2个图\n",
    "fig, (ax1, ax2) = plt.subplots(1, 2)"
   ]
  },
  {
   "cell_type": "code",
   "execution_count": 90,
   "metadata": {},
   "outputs": [],
   "source": [
    "fig.set_size_inches(18, 7)# 画布的尺寸"
   ]
  },
  {
   "cell_type": "code",
   "execution_count": 91,
   "metadata": {},
   "outputs": [
    {
     "data": {
      "text/plain": [
       "(-0.1, 1)"
      ]
     },
     "execution_count": 91,
     "metadata": {},
     "output_type": "execute_result"
    }
   ],
   "source": [
    "# 首先我们来设定横坐标\n",
    "# 轮廓系数的取值范围在[-1,1]之间，但我们至少希望轮廓系数是大于0的，否则则认为聚类出现了很大问题\n",
    "# 太长的横坐标不利于我们的可视化,所以只设定X轴的取值在[-0.1,1]之间\n",
    "ax1.set_xlim([-0.1, 1])"
   ]
  },
  {
   "cell_type": "code",
   "execution_count": 92,
   "metadata": {},
   "outputs": [
    {
     "data": {
      "text/plain": [
       "(0, 550)"
      ]
     },
     "execution_count": 92,
     "metadata": {},
     "output_type": "execute_result"
    }
   ],
   "source": [
    "# 接下来设定纵坐标,通常来说，纵坐标是从0开始的，最大值取到X.shape[0]的取值\n",
    "#但我们希望，每个簇能够排在一起，不同的簇之间有一定的空袭\n",
    "#以便我们看到不同的条形图聚合成的快，理解它是对应了哪一个簇\n",
    "#因此我们在设定纵坐标的取值范围的时候，在X.shape[0]上，加上一个距离(n_clusters+1)*10，留作间隙用\n",
    "\n",
    "ax1.set_ylim([0, X.shape[0] + (n_clusters + 1) * 10])"
   ]
  },
  {
   "cell_type": "code",
   "execution_count": 93,
   "metadata": {},
   "outputs": [],
   "source": [
    "# 开始建模，调用聚类好的标签\n",
    "clusterer = KMeans(n_clusters=n_clusters, random_state=10).fit(X)\n",
    "cluster_labels = clusterer.labels_"
   ]
  },
  {
   "cell_type": "code",
   "execution_count": 94,
   "metadata": {},
   "outputs": [],
   "source": [
    "# 轮廓系数 2个参数为特征矩阵X和聚类完毕后的标签\n",
    "silhouette_avg = silhouette_score(X, cluster_labels)"
   ]
  },
  {
   "cell_type": "code",
   "execution_count": 95,
   "metadata": {},
   "outputs": [
    {
     "name": "stdout",
     "output_type": "stream",
     "text": [
      "For n_clusters = 4 The average silhouette_score is : 0.6505186632729437\n"
     ]
    }
   ],
   "source": [
    "print(\"For n_clusters =\", n_clusters,\n",
    "      \"The average silhouette_score is :\", silhouette_avg)"
   ]
  },
  {
   "cell_type": "code",
   "execution_count": 96,
   "metadata": {},
   "outputs": [],
   "source": [
    "# 调用silhousttte_samples，返回每个样本点的轮廓系数，这就是我们的横坐标\n",
    "sample_silhouette_values = silhouette_samples(X, cluster_labels)"
   ]
  },
  {
   "cell_type": "code",
   "execution_count": 97,
   "metadata": {},
   "outputs": [
    {
     "data": {
      "text/plain": [
       "array([ 0.62903385,  0.43289576,  0.55834047,  0.82660742,  0.35213124,\n",
       "        0.74123252,  0.68902347,  0.58705868,  0.04062548,  0.73241492,\n",
       "        0.59363669,  0.75135825,  0.66326503,  0.81480193,  0.45066007,\n",
       "        0.59477448,  0.10348453,  0.66633309,  0.84176332,  0.6089521 ,\n",
       "        0.70366952,  0.66565716,  0.59626118,  0.78488729,  0.64257685,\n",
       "        0.53469157,  0.86623858,  0.80913231,  0.62625573,  0.70079616,\n",
       "        0.62490578,  0.83417556,  0.74035924,  0.54405603,  0.71658615,\n",
       "        0.6694404 ,  0.69313134,  0.60546734,  0.58315885,  0.59179481,\n",
       "        0.64472091,  0.56153618,  0.73581549,  0.50944136,  0.66243564,\n",
       "        0.73163465,  0.57031198,  0.68128648,  0.85802959,  0.76946886,\n",
       "        0.81915048,  0.68541025,  0.5406262 ,  0.72334031,  0.63576372,\n",
       "        0.69892782,  0.64245745,  0.40251287,  0.57213237,  0.46118988,\n",
       "        0.83726051,  0.80179027,  0.45393636,  0.54665199,  0.85023055,\n",
       "        0.6688164 ,  0.69778864,  0.69091353,  0.68586222,  0.46727706,\n",
       "        0.64892594,  0.6808235 ,  0.66206932,  0.69871837,  0.71865188,\n",
       "        0.68494268,  0.75328423,  0.58296563,  0.70576812,  0.36389608,\n",
       "        0.82328783,  0.85353139,  0.60606649,  0.83393488,  0.83094159,\n",
       "        0.70382684,  0.0580048 ,  0.80397318,  0.6427548 ,  0.46029756,\n",
       "        0.68630759,  0.57351761,  0.3687021 ,  0.45078314,  0.80977885,\n",
       "        0.72152963,  0.63168005,  0.4945532 ,  0.55911976,  0.73815264,\n",
       "        0.8186652 ,  0.69469544,  0.7494507 ,  0.61042964,  0.82018921,\n",
       "        0.52164637,  0.73875283,  0.86225523,  0.8531162 ,  0.70074535,\n",
       "        0.42283371,  0.75276236,  0.83627727,  0.6615193 ,  0.83388255,\n",
       "        0.69044814,  0.82428157,  0.51512168,  0.83757123,  0.73538753,\n",
       "        0.68751242,  0.52750486,  0.66904087,  0.54954225,  0.47655054,\n",
       "        0.6592929 ,  0.81000835,  0.76006921,  0.69263105,  0.71103186,\n",
       "        0.83918213,  0.60369516,  0.56768711,  0.68326139,  0.61434083,\n",
       "        0.56363829,  0.61532991,  0.56083023,  0.72531043,  0.79883227,\n",
       "        0.66688735,  0.50564715,  0.65158262,  0.85563404,  0.7824113 ,\n",
       "        0.8285419 ,  0.64072343,  0.72620054,  0.49825455,  0.59695559,\n",
       "        0.5583992 ,  0.40186669,  0.78237885,  0.74785868,  0.75884865,\n",
       "        0.70089311,  0.60263048,  0.5615834 ,  0.70118071,  0.67772637,\n",
       "        0.5721739 ,  0.67730468,  0.63416253,  0.63414272,  0.81321733,\n",
       "        0.35221048,  0.73508598,  0.61363209,  0.72700817,  0.86185079,\n",
       "        0.62568743,  0.51861029,  0.70526541,  0.60301291,  0.85886051,\n",
       "        0.43701433,  0.62177867,  0.70450483,  0.55881958,  0.55269651,\n",
       "        0.65422754,  0.59119905,  0.70204441,  0.43934625,  0.72193903,\n",
       "        0.17436228,  0.72671371,  0.74909326,  0.72291783,  0.10079355,\n",
       "        0.77498719,  0.84704808,  0.66126514,  0.31716798,  0.737739  ,\n",
       "        0.81890859,  0.69192282,  0.65706799,  0.73981774,  0.80669213,\n",
       "        0.72526562,  0.57891472,  0.62600877,  0.64771679,  0.67449479,\n",
       "        0.62489594,  0.67181431,  0.45282563,  0.75229552,  0.60640714,\n",
       "        0.60145867,  0.44589657,  0.52509653,  0.73004638,  0.60915283,\n",
       "        0.71425762,  0.67655284,  0.80363485,  0.25131282,  0.80286197,\n",
       "        0.66334249,  0.71475664,  0.62017878,  0.70580234,  0.61180346,\n",
       "        0.69848171,  0.6904932 ,  0.84631405,  0.47873982,  0.79638229,\n",
       "        0.69250151,  0.63388969,  0.67373235,  0.55319783,  0.8598079 ,\n",
       "        0.7524114 ,  0.40235979,  0.72000523,  0.85689279,  0.62338775,\n",
       "        0.73165669,  0.33911487,  0.7328447 ,  0.74837575,  0.73431429,\n",
       "        0.58679954,  0.47468596,  0.54461604,  0.62101494,  0.65614518,\n",
       "        0.59444286,  0.78796304,  0.85923611,  0.68794159,  0.56391242,\n",
       "        0.85800677,  0.60955615,  0.32853507,  0.50398148,  0.86632275,\n",
       "        0.55497237,  0.77195259,  0.56564538,  0.62420175,  0.8594779 ,\n",
       "        0.72669339,  0.68323288,  0.72043564,  0.57474922,  0.65617516,\n",
       "        0.59583965,  0.6138594 ,  0.84967889,  0.8404922 ,  0.52263744,\n",
       "        0.8476908 ,  0.70818495,  0.53064417,  0.86423672,  0.68329404,\n",
       "        0.85954346,  0.71466842,  0.73795813,  0.83653999,  0.67953558,\n",
       "        0.85065563,  0.79143872,  0.24849881,  0.67865396,  0.27823309,\n",
       "        0.44089877,  0.71828573,  0.64490691,  0.09916002,  0.42187352,\n",
       "        0.6579123 ,  0.51837   ,  0.05555848,  0.55040536,  0.6405919 ,\n",
       "        0.40527851,  0.68860035,  0.67263151,  0.62413005,  0.50693326,\n",
       "        0.54230967,  0.5281381 ,  0.67691214,  0.49587889,  0.65614372,\n",
       "        0.83516308,  0.70022476,  0.70731666,  0.72443738,  0.78586427,\n",
       "        0.84667587,  0.4684146 ,  0.73455491,  0.78813618,  0.81321866,\n",
       "        0.73636182,  0.72072073,  0.74169057,  0.85906707,  0.39577884,\n",
       "        0.685937  ,  0.77977067,  0.63966327,  0.71116971,  0.61156042,\n",
       "        0.67546489,  0.85619636,  0.04572313,  0.41590615,  0.42626816,\n",
       "        0.79347261,  0.82670453,  0.60921504,  0.4480074 ,  0.58304871,\n",
       "        0.70971499,  0.63829578,  0.85971201,  0.83865592,  0.66851073,\n",
       "        0.78243579,  0.78068333,  0.68646877,  0.7583609 ,  0.67331687,\n",
       "        0.68292808,  0.70580903,  0.85419785,  0.62474276,  0.68377591,\n",
       "        0.63874743,  0.83845929,  0.68042509,  0.86203062,  0.4899863 ,\n",
       "        0.66998424,  0.69773531,  0.57037883,  0.6731441 ,  0.85306519,\n",
       "        0.52420901,  0.70306922,  0.69297145,  0.86301134,  0.72317246,\n",
       "        0.7560538 ,  0.6013632 ,  0.71200949,  0.6190129 ,  0.63921141,\n",
       "        0.27971801,  0.66412442,  0.85511238,  0.67595374,  0.79024461,\n",
       "        0.86478505,  0.67769563,  0.82143455,  0.5735732 ,  0.66157221,\n",
       "        0.06107484,  0.61251082,  0.83589166, -0.00872469,  0.8358298 ,\n",
       "        0.39555308,  0.73338529,  0.22262977,  0.69102837,  0.74812903,\n",
       "        0.695476  ,  0.1616137 ,  0.78950524,  0.76529602,  0.62206789,\n",
       "        0.68036047,  0.70753407,  0.59163663,  0.60974585,  0.73984024,\n",
       "        0.72891725,  0.74108521,  0.61918538,  0.6040488 ,  0.67313069,\n",
       "        0.55248873,  0.61689676,  0.33436413,  0.7469491 ,  0.47212927,\n",
       "        0.84657869,  0.49205564,  0.72130768,  0.64765233,  0.72948536,\n",
       "        0.81127763,  0.45878499,  0.68662743,  0.79675608,  0.62012949,\n",
       "        0.65702242,  0.78085857,  0.82740752,  0.66575457,  0.68131292,\n",
       "        0.64830126,  0.68370094,  0.63621001,  0.85931393,  0.52551701,\n",
       "        0.70512134,  0.77715108,  0.7407637 ,  0.69560216,  0.72525541,\n",
       "        0.68538114,  0.64809374,  0.11092568,  0.67593127,  0.64186857,\n",
       "        0.68857292,  0.64693932,  0.67706722,  0.71848648,  0.72009522,\n",
       "        0.69970453,  0.54514763,  0.73124452,  0.73376962,  0.54956739,\n",
       "        0.35175708,  0.35863386,  0.69315426,  0.72080858,  0.70551128,\n",
       "        0.85531468,  0.61302534,  0.86434023,  0.73763421,  0.69945544,\n",
       "        0.26344224,  0.84282472,  0.81346215,  0.77988893,  0.457298  ,\n",
       "        0.72758052,  0.56105932,  0.74388245,  0.6030924 ,  0.84373734,\n",
       "        0.70513767,  0.75539602,  0.82314621,  0.40598262,  0.83764827,\n",
       "        0.6764497 ,  0.67806402,  0.85371569,  0.7309908 ,  0.39793802,\n",
       "        0.67976046,  0.50219218,  0.41095767,  0.66098766,  0.49589762,\n",
       "        0.45158542,  0.65473612,  0.70979989,  0.85803255,  0.6090255 ,\n",
       "        0.23094383,  0.73256791,  0.51456386,  0.68960014,  0.68782655])"
      ]
     },
     "execution_count": 97,
     "metadata": {},
     "output_type": "execute_result"
    }
   ],
   "source": [
    "sample_silhouette_values"
   ]
  },
  {
   "cell_type": "code",
   "execution_count": 98,
   "metadata": {},
   "outputs": [],
   "source": [
    "#设定y轴的初始取值\n",
    "y_lower = 10"
   ]
  },
  {
   "cell_type": "code",
   "execution_count": 99,
   "metadata": {},
   "outputs": [],
   "source": [
    "for i in range(n_clusters):\n",
    "    # 从每个样本的轮廓系数结果中抽取出第i个簇的轮廓系数，并对他进行排序\n",
    "    ith_cluster_silhouette_values = sample_silhouette_values[cluster_labels == i]\n",
    "    \n",
    "    # 注意，sort（）会改掉原数据的顺序\n",
    "    ith_cluster_silhouette_values.sort()\n",
    "    \n",
    "    #查看这一簇中究竟有多少个样本\n",
    "    size_cluster_i = ith_cluster_silhouette_values.shape[0]\n",
    "    \n",
    "    y_upper = y_lower + size_cluster_i\n",
    "    \n",
    "    color = cm.nipy_spectral(float(i)/n_clusters)\n",
    "    # fill_between是让一个范围中的柱状图都统一颜色的函数\n",
    "    # fill_betweenx的范围是在纵坐标上\n",
    "    # fill_betweeny的范围是在横坐标上\n",
    "    # fill_betweenx的参数应该输入（纵坐标的下限，纵坐标的上限，x的取值，柱状图的颜色）\n",
    "    ax1.fill_betweenx(np.arange(y_lower, y_upper)\n",
    "                     ,ith_cluster_silhouette_values\n",
    "                     ,facecolor=color\n",
    "                     ,alpha=0.7\n",
    "                     )\n",
    "    ax1.text(-0.05\n",
    "             , y_lower + 0.5 * size_cluster_i\n",
    "             , str(i))\n",
    "    y_lower = y_upper + 10"
   ]
  },
  {
   "cell_type": "code",
   "execution_count": 100,
   "metadata": {},
   "outputs": [
    {
     "data": {
      "text/plain": [
       "<matplotlib.lines.Line2D at 0x1d494e5f4c8>"
      ]
     },
     "execution_count": 100,
     "metadata": {},
     "output_type": "execute_result"
    }
   ],
   "source": [
    "ax1.set_title(\"The silhouette plot for the various clusters.\")\n",
    "ax1.set_xlabel(\"The silhouette coefficient values\")\n",
    "ax1.set_ylabel(\"Cluster label\")\n",
    "\n",
    "ax1.axvline(x=silhouette_avg, color=\"red\", linestyle=\"--\")"
   ]
  },
  {
   "cell_type": "code",
   "execution_count": 101,
   "metadata": {},
   "outputs": [
    {
     "data": {
      "text/plain": [
       "[<matplotlib.axis.XTick at 0x1d494e57788>,\n",
       " <matplotlib.axis.XTick at 0x1d494e54dc8>,\n",
       " <matplotlib.axis.XTick at 0x1d494ea0fc8>,\n",
       " <matplotlib.axis.XTick at 0x1d494eb4048>,\n",
       " <matplotlib.axis.XTick at 0x1d494eb4948>,\n",
       " <matplotlib.axis.XTick at 0x1d494eb8388>,\n",
       " <matplotlib.axis.XTick at 0x1d494e54988>]"
      ]
     },
     "execution_count": 101,
     "metadata": {},
     "output_type": "execute_result"
    }
   ],
   "source": [
    "\n",
    "ax1.set_yticks([])\n",
    "ax1.set_xticks([-0.1, 0, 0.2, 0.4, 0.6, 0.8, 1])"
   ]
  },
  {
   "cell_type": "code",
   "execution_count": 102,
   "metadata": {},
   "outputs": [
    {
     "data": {
      "text/plain": [
       "<Figure size 432x288 with 0 Axes>"
      ]
     },
     "metadata": {},
     "output_type": "display_data"
    }
   ],
   "source": [
    "colors = cm.nipy_spectral(cluster_labels.astype(float) / n_clusters)\n",
    "ax2.scatter(X[:, 0], X[:, 1]\n",
    "           ,marker='o'\n",
    "           ,s=8\n",
    "           ,c=colors\n",
    "           )\n",
    "centers = clusterer.cluster_centers_\n",
    "# Draw white circles at cluster centers\n",
    "ax2.scatter(centers[:, 0], centers[:, 1], marker='x',\n",
    "            c=\"red\", alpha=1, s=200)\n",
    "ax2.set_title(\"The visualization of the clustered data.\")\n",
    "ax2.set_xlabel(\"Feature space for the 1st feature\")\n",
    "ax2.set_ylabel(\"Feature space for the 2nd feature\")\n",
    "plt.suptitle((\"Silhouette analysis for KMeans clustering on sample data \"\n",
    "              \"with n_clusters = %d\" % n_clusters),\n",
    "             fontsize=14, fontweight='bold')\n",
    "plt.show()"
   ]
  },
  {
   "cell_type": "code",
   "execution_count": null,
   "metadata": {},
   "outputs": [],
   "source": []
  },
  {
   "cell_type": "code",
   "execution_count": null,
   "metadata": {},
   "outputs": [],
   "source": []
  }
 ],
 "metadata": {
  "kernelspec": {
   "display_name": "Python 3",
   "language": "python",
   "name": "python3"
  },
  "language_info": {
   "codemirror_mode": {
    "name": "ipython",
    "version": 3
   },
   "file_extension": ".py",
   "mimetype": "text/x-python",
   "name": "python",
   "nbconvert_exporter": "python",
   "pygments_lexer": "ipython3",
   "version": "3.7.6"
  },
  "toc": {
   "base_numbering": 1,
   "nav_menu": {},
   "number_sections": true,
   "sideBar": true,
   "skip_h1_title": false,
   "title_cell": "Table of Contents",
   "title_sidebar": "Contents",
   "toc_cell": false,
   "toc_position": {
    "height": "calc(100% - 180px)",
    "left": "10px",
    "top": "150px",
    "width": "267.92px"
   },
   "toc_section_display": true,
   "toc_window_display": true
  }
 },
 "nbformat": 4,
 "nbformat_minor": 4
}
