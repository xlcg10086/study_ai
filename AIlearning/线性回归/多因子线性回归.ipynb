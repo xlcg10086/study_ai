{
 "cells": [
  {
   "cell_type": "markdown",
   "metadata": {},
   "source": [
    "# 线性回归预测房价"
   ]
  },
  {
   "cell_type": "markdown",
   "metadata": {},
   "source": [
    "任务：<br>\n",
    "基于user_housing_price.csv数据，建立线性回归模型，预测合理房价<br>\n",
    "1、以面积为输入变量，建立单因子模型，以评估模型表现，可视化线性回归预测结果<br>\n",
    "2、以income,house age,number of rooms,population,area为输入变量，建立多因子模型，评估模型表现<br>\n",
    "3、预测Income=65000,House Age = 5,Number Of Rooms = 5,Population=30000,size=2000的合理房价"
   ]
  },
  {
   "cell_type": "code",
   "execution_count": 1,
   "metadata": {},
   "outputs": [],
   "source": [
    "import pandas as pd\n",
    "import numpy as np"
   ]
  },
  {
   "cell_type": "code",
   "execution_count": 2,
   "metadata": {},
   "outputs": [
    {
     "data": {
      "text/html": [
       "<div>\n",
       "<style scoped>\n",
       "    .dataframe tbody tr th:only-of-type {\n",
       "        vertical-align: middle;\n",
       "    }\n",
       "\n",
       "    .dataframe tbody tr th {\n",
       "        vertical-align: top;\n",
       "    }\n",
       "\n",
       "    .dataframe thead th {\n",
       "        text-align: right;\n",
       "    }\n",
       "</style>\n",
       "<table border=\"1\" class=\"dataframe\">\n",
       "  <thead>\n",
       "    <tr style=\"text-align: right;\">\n",
       "      <th></th>\n",
       "      <th>Avg. Area Income</th>\n",
       "      <th>Avg. Area House Age</th>\n",
       "      <th>Avg. Area Number of Rooms</th>\n",
       "      <th>Area Population</th>\n",
       "      <th>size</th>\n",
       "      <th>Price</th>\n",
       "    </tr>\n",
       "  </thead>\n",
       "  <tbody>\n",
       "    <tr>\n",
       "      <th>0</th>\n",
       "      <td>79545.45857</td>\n",
       "      <td>5.317139</td>\n",
       "      <td>7.009188</td>\n",
       "      <td>23086.80050</td>\n",
       "      <td>188.214212</td>\n",
       "      <td>1.059034e+06</td>\n",
       "    </tr>\n",
       "    <tr>\n",
       "      <th>1</th>\n",
       "      <td>79248.64245</td>\n",
       "      <td>4.997100</td>\n",
       "      <td>6.730821</td>\n",
       "      <td>40173.07217</td>\n",
       "      <td>160.042526</td>\n",
       "      <td>1.505891e+06</td>\n",
       "    </tr>\n",
       "    <tr>\n",
       "      <th>2</th>\n",
       "      <td>61287.06718</td>\n",
       "      <td>5.134110</td>\n",
       "      <td>8.512727</td>\n",
       "      <td>36882.15940</td>\n",
       "      <td>227.273545</td>\n",
       "      <td>1.058988e+06</td>\n",
       "    </tr>\n",
       "    <tr>\n",
       "      <th>3</th>\n",
       "      <td>63345.24005</td>\n",
       "      <td>3.811764</td>\n",
       "      <td>5.586729</td>\n",
       "      <td>34310.24283</td>\n",
       "      <td>164.816630</td>\n",
       "      <td>1.260617e+06</td>\n",
       "    </tr>\n",
       "    <tr>\n",
       "      <th>4</th>\n",
       "      <td>59982.19723</td>\n",
       "      <td>5.959445</td>\n",
       "      <td>7.839388</td>\n",
       "      <td>26354.10947</td>\n",
       "      <td>161.966659</td>\n",
       "      <td>6.309435e+05</td>\n",
       "    </tr>\n",
       "  </tbody>\n",
       "</table>\n",
       "</div>"
      ],
      "text/plain": [
       "   Avg. Area Income  Avg. Area House Age  Avg. Area Number of Rooms  \\\n",
       "0       79545.45857             5.317139                   7.009188   \n",
       "1       79248.64245             4.997100                   6.730821   \n",
       "2       61287.06718             5.134110                   8.512727   \n",
       "3       63345.24005             3.811764                   5.586729   \n",
       "4       59982.19723             5.959445                   7.839388   \n",
       "\n",
       "   Area Population        size         Price  \n",
       "0      23086.80050  188.214212  1.059034e+06  \n",
       "1      40173.07217  160.042526  1.505891e+06  \n",
       "2      36882.15940  227.273545  1.058988e+06  \n",
       "3      34310.24283  164.816630  1.260617e+06  \n",
       "4      26354.10947  161.966659  6.309435e+05  "
      ]
     },
     "execution_count": 2,
     "metadata": {},
     "output_type": "execute_result"
    }
   ],
   "source": [
    "# 读取数据\n",
    "data = pd.read_csv(\"usa_housing_price.csv\")\n",
    "data.head()"
   ]
  },
  {
   "cell_type": "code",
   "execution_count": 3,
   "metadata": {},
   "outputs": [],
   "source": [
    "from matplotlib import pyplot as plt"
   ]
  },
  {
   "cell_type": "code",
   "execution_count": 4,
   "metadata": {},
   "outputs": [
    {
     "data": {
      "text/plain": [
       "<Figure size 1440x1440 with 0 Axes>"
      ]
     },
     "metadata": {},
     "output_type": "display_data"
    }
   ],
   "source": [
    "fig = plt.figure(figsize=(20,20))"
   ]
  },
  {
   "cell_type": "code",
   "execution_count": 5,
   "metadata": {},
   "outputs": [
    {
     "data": {
      "image/png": "[encoded data removed]",
      "text/plain": [
       "<Figure size 432x288 with 5 Axes>"
      ]
     },
     "metadata": {
      "needs_background": "light"
     },
     "output_type": "display_data"
    }
   ],
   "source": [
    "fig1 = plt.subplot(231)\n",
    "plt.scatter(data.loc[:,\"Avg. Area Income\"],data.loc[:,'Price'])\n",
    "plt.title(\"Price As Income\")\n",
    "\n",
    "fig2 = plt.subplot(232)\n",
    "plt.scatter(data.loc[:,\"Avg. Area House Age\"],data.loc[:,'Price'])\n",
    "plt.title(\"Price As House\")\n",
    "\n",
    "fig3 = plt.subplot(233)\n",
    "plt.scatter(data.loc[:,\"Avg. Area Number of Rooms\"],data.loc[:,'Price'])\n",
    "plt.title(\"Price As Rooms\")\n",
    "\n",
    "fig4 = plt.subplot(234)\n",
    "plt.scatter(data.loc[:,\"Area Population\"],data.loc[:,'Price'])\n",
    "plt.title(\"Price As Population\")\n",
    "\n",
    "fig5 = plt.subplot(235)\n",
    "plt.scatter(data.loc[:,\"size\"],data.loc[:,'Price'])\n",
    "plt.title(\"Price As Size\")\n",
    "plt.show()"
   ]
  },
  {
   "cell_type": "markdown",
   "metadata": {},
   "source": [
    "## 任务1"
   ]
  },
  {
   "cell_type": "code",
   "execution_count": 6,
   "metadata": {},
   "outputs": [],
   "source": [
    "# 定义x和y\n",
    "x = data.loc[:,'size']\n",
    "y = data.loc[:,'Price']"
   ]
  },
  {
   "cell_type": "markdown",
   "metadata": {},
   "source": [
    "建立单因子模型"
   ]
  },
  {
   "cell_type": "code",
   "execution_count": 7,
   "metadata": {},
   "outputs": [],
   "source": [
    "# 导入相关库\n",
    "from sklearn.linear_model import LinearRegression\n",
    "lr_model = LinearRegression()"
   ]
  },
  {
   "cell_type": "code",
   "execution_count": 8,
   "metadata": {},
   "outputs": [],
   "source": [
    "# 维度转化\n",
    "x = np.array(x).reshape(-1,1)\n",
    "y = np.array(y).reshape(-1,1)"
   ]
  },
  {
   "cell_type": "code",
   "execution_count": 9,
   "metadata": {},
   "outputs": [
    {
     "data": {
      "text/plain": [
       "LinearRegression()"
      ]
     },
     "execution_count": 9,
     "metadata": {},
     "output_type": "execute_result"
    }
   ],
   "source": [
    "# 训练模型\n",
    "lr_model.fit(x,y)"
   ]
  },
  {
   "cell_type": "markdown",
   "metadata": {},
   "source": [
    "计算单因子size下的价格"
   ]
  },
  {
   "cell_type": "code",
   "execution_count": 10,
   "metadata": {},
   "outputs": [],
   "source": [
    "y_predict = lr_model.predict(x)"
   ]
  },
  {
   "cell_type": "markdown",
   "metadata": {},
   "source": [
    "评估模型"
   ]
  },
  {
   "cell_type": "code",
   "execution_count": 11,
   "metadata": {},
   "outputs": [
    {
     "name": "stdout",
     "output_type": "stream",
     "text": [
      "108771672553.6264\n",
      "0.1275031240418234\n"
     ]
    }
   ],
   "source": [
    "from sklearn.metrics import mean_squared_error,r2_score\n",
    "mean_squared_error_1 = mean_squared_error(y,y_predict)\n",
    "r2_score_1 = r2_score(y,y_predict)\n",
    "print(mean_squared_error_1)# 数值不好衡量大小\n",
    "print(r2_score_1)# 0.12距离1很远，说明模型不好"
   ]
  },
  {
   "cell_type": "code",
   "execution_count": 12,
   "metadata": {},
   "outputs": [
    {
     "data": {
      "image/png": "[encoded data removed]",
      "text/plain": [
       "<Figure size 432x288 with 1 Axes>"
      ]
     },
     "metadata": {
      "needs_background": "light"
     },
     "output_type": "display_data"
    }
   ],
   "source": [
    "fig6 = plt.figure()\n",
    "plt.scatter(x,y)\n",
    "plt.plot(x,y_predict,'r')\n",
    "plt.show()"
   ]
  },
  {
   "cell_type": "markdown",
   "metadata": {},
   "source": [
    "根据上述图，我们可以发现，这个模型很难对我们评价房屋价格是否合理做出判断依据"
   ]
  },
  {
   "cell_type": "markdown",
   "metadata": {},
   "source": [
    "# 任务2"
   ]
  },
  {
   "cell_type": "code",
   "execution_count": 13,
   "metadata": {},
   "outputs": [
    {
     "data": {
      "text/html": [
       "<div>\n",
       "<style scoped>\n",
       "    .dataframe tbody tr th:only-of-type {\n",
       "        vertical-align: middle;\n",
       "    }\n",
       "\n",
       "    .dataframe tbody tr th {\n",
       "        vertical-align: top;\n",
       "    }\n",
       "\n",
       "    .dataframe thead th {\n",
       "        text-align: right;\n",
       "    }\n",
       "</style>\n",
       "<table border=\"1\" class=\"dataframe\">\n",
       "  <thead>\n",
       "    <tr style=\"text-align: right;\">\n",
       "      <th></th>\n",
       "      <th>Avg. Area Income</th>\n",
       "      <th>Avg. Area House Age</th>\n",
       "      <th>Avg. Area Number of Rooms</th>\n",
       "      <th>Area Population</th>\n",
       "      <th>size</th>\n",
       "    </tr>\n",
       "  </thead>\n",
       "  <tbody>\n",
       "    <tr>\n",
       "      <th>0</th>\n",
       "      <td>79545.45857</td>\n",
       "      <td>5.317139</td>\n",
       "      <td>7.009188</td>\n",
       "      <td>23086.80050</td>\n",
       "      <td>188.214212</td>\n",
       "    </tr>\n",
       "    <tr>\n",
       "      <th>1</th>\n",
       "      <td>79248.64245</td>\n",
       "      <td>4.997100</td>\n",
       "      <td>6.730821</td>\n",
       "      <td>40173.07217</td>\n",
       "      <td>160.042526</td>\n",
       "    </tr>\n",
       "    <tr>\n",
       "      <th>2</th>\n",
       "      <td>61287.06718</td>\n",
       "      <td>5.134110</td>\n",
       "      <td>8.512727</td>\n",
       "      <td>36882.15940</td>\n",
       "      <td>227.273545</td>\n",
       "    </tr>\n",
       "    <tr>\n",
       "      <th>3</th>\n",
       "      <td>63345.24005</td>\n",
       "      <td>3.811764</td>\n",
       "      <td>5.586729</td>\n",
       "      <td>34310.24283</td>\n",
       "      <td>164.816630</td>\n",
       "    </tr>\n",
       "    <tr>\n",
       "      <th>4</th>\n",
       "      <td>59982.19723</td>\n",
       "      <td>5.959445</td>\n",
       "      <td>7.839388</td>\n",
       "      <td>26354.10947</td>\n",
       "      <td>161.966659</td>\n",
       "    </tr>\n",
       "    <tr>\n",
       "      <th>...</th>\n",
       "      <td>...</td>\n",
       "      <td>...</td>\n",
       "      <td>...</td>\n",
       "      <td>...</td>\n",
       "      <td>...</td>\n",
       "    </tr>\n",
       "    <tr>\n",
       "      <th>4995</th>\n",
       "      <td>60567.94414</td>\n",
       "      <td>3.169638</td>\n",
       "      <td>6.137356</td>\n",
       "      <td>22837.36103</td>\n",
       "      <td>161.641403</td>\n",
       "    </tr>\n",
       "    <tr>\n",
       "      <th>4996</th>\n",
       "      <td>78491.27543</td>\n",
       "      <td>4.000865</td>\n",
       "      <td>6.576763</td>\n",
       "      <td>25616.11549</td>\n",
       "      <td>159.164596</td>\n",
       "    </tr>\n",
       "    <tr>\n",
       "      <th>4997</th>\n",
       "      <td>63390.68689</td>\n",
       "      <td>3.749409</td>\n",
       "      <td>4.805081</td>\n",
       "      <td>33266.14549</td>\n",
       "      <td>139.491785</td>\n",
       "    </tr>\n",
       "    <tr>\n",
       "      <th>4998</th>\n",
       "      <td>68001.33124</td>\n",
       "      <td>5.465612</td>\n",
       "      <td>7.130144</td>\n",
       "      <td>42625.62016</td>\n",
       "      <td>184.845371</td>\n",
       "    </tr>\n",
       "    <tr>\n",
       "      <th>4999</th>\n",
       "      <td>65510.58180</td>\n",
       "      <td>5.007695</td>\n",
       "      <td>6.792336</td>\n",
       "      <td>46501.28380</td>\n",
       "      <td>148.589423</td>\n",
       "    </tr>\n",
       "  </tbody>\n",
       "</table>\n",
       "<p>5000 rows × 5 columns</p>\n",
       "</div>"
      ],
      "text/plain": [
       "      Avg. Area Income  Avg. Area House Age  Avg. Area Number of Rooms  \\\n",
       "0          79545.45857             5.317139                   7.009188   \n",
       "1          79248.64245             4.997100                   6.730821   \n",
       "2          61287.06718             5.134110                   8.512727   \n",
       "3          63345.24005             3.811764                   5.586729   \n",
       "4          59982.19723             5.959445                   7.839388   \n",
       "...                ...                  ...                        ...   \n",
       "4995       60567.94414             3.169638                   6.137356   \n",
       "4996       78491.27543             4.000865                   6.576763   \n",
       "4997       63390.68689             3.749409                   4.805081   \n",
       "4998       68001.33124             5.465612                   7.130144   \n",
       "4999       65510.58180             5.007695                   6.792336   \n",
       "\n",
       "      Area Population        size  \n",
       "0         23086.80050  188.214212  \n",
       "1         40173.07217  160.042526  \n",
       "2         36882.15940  227.273545  \n",
       "3         34310.24283  164.816630  \n",
       "4         26354.10947  161.966659  \n",
       "...               ...         ...  \n",
       "4995      22837.36103  161.641403  \n",
       "4996      25616.11549  159.164596  \n",
       "4997      33266.14549  139.491785  \n",
       "4998      42625.62016  184.845371  \n",
       "4999      46501.28380  148.589423  \n",
       "\n",
       "[5000 rows x 5 columns]"
      ]
     },
     "execution_count": 13,
     "metadata": {},
     "output_type": "execute_result"
    }
   ],
   "source": [
    "X_multi = data.drop(['Price'],axis=1)\n",
    "X_multi"
   ]
  },
  {
   "cell_type": "markdown",
   "metadata": {},
   "source": [
    "建立模型"
   ]
  },
  {
   "cell_type": "code",
   "execution_count": 14,
   "metadata": {},
   "outputs": [
    {
     "data": {
      "text/plain": [
       "LinearRegression()"
      ]
     },
     "execution_count": 14,
     "metadata": {},
     "output_type": "execute_result"
    }
   ],
   "source": [
    "lr_model2 = LinearRegression()\n",
    "lr_model2.fit(X_multi,y)"
   ]
  },
  {
   "cell_type": "code",
   "execution_count": 15,
   "metadata": {},
   "outputs": [],
   "source": [
    "# 模型预测\n",
    "y_predict_multi = lr_model2.predict(X_multi)"
   ]
  },
  {
   "cell_type": "code",
   "execution_count": 16,
   "metadata": {},
   "outputs": [
    {
     "data": {
      "text/plain": [
       "array([[1223968.89166087],\n",
       "       [1497306.3318863 ],\n",
       "       [1250884.31019438],\n",
       "       ...,\n",
       "       [1020693.92390375],\n",
       "       [1260503.36914585],\n",
       "       [1302737.7915763 ]])"
      ]
     },
     "execution_count": 16,
     "metadata": {},
     "output_type": "execute_result"
    }
   ],
   "source": [
    "y_predict_multi"
   ]
  },
  {
   "cell_type": "code",
   "execution_count": 17,
   "metadata": {},
   "outputs": [
    {
     "name": "stdout",
     "output_type": "stream",
     "text": [
      "10219846512.177862\n",
      "0.9180229195220739\n"
     ]
    }
   ],
   "source": [
    "mean_squared_error_2 = mean_squared_error(y,y_predict_multi)\n",
    "r2_score_2 = r2_score(y,y_predict_multi)\n",
    "print(mean_squared_error_2)# 数值不好衡量大小\n",
    "print(r2_score_2)# 距离1很近，说明模型有了显著的提升"
   ]
  },
  {
   "cell_type": "code",
   "execution_count": 18,
   "metadata": {},
   "outputs": [
    {
     "data": {
      "image/png": "[encoded data removed]",
      "text/plain": [
       "<Figure size 1080x1080 with 2 Axes>"
      ]
     },
     "metadata": {
      "needs_background": "light"
     },
     "output_type": "display_data"
    }
   ],
   "source": [
    "plt.figure(figsize=(15,15))\n",
    "fig_multi = plt.subplot(231)\n",
    "plt.scatter(y,y_predict_multi)\n",
    "plt.title(\"multi\")\n",
    "\n",
    "fig_single = plt.subplot(232)\n",
    "plt.scatter(y,y_predict)\n",
    "plt.title(\"single\")\n",
    "plt.show()"
   ]
  },
  {
   "cell_type": "markdown",
   "metadata": {},
   "source": [
    "通过对比多因子和单因子的线性回归，我们发现多因子的更准确的反应了预测情况"
   ]
  },
  {
   "cell_type": "markdown",
   "metadata": {},
   "source": [
    "# 任务3"
   ]
  },
  {
   "cell_type": "code",
   "execution_count": 19,
   "metadata": {},
   "outputs": [],
   "source": [
    "x_test = [65000,5,5,30000,200]"
   ]
  },
  {
   "cell_type": "code",
   "execution_count": 20,
   "metadata": {},
   "outputs": [],
   "source": [
    "x_test = np.array(x_test).reshape(-1,1)"
   ]
  },
  {
   "cell_type": "code",
   "execution_count": 23,
   "metadata": {},
   "outputs": [],
   "source": [
    "y_test_predict = lr_model2.predict(x_test)"
   ]
  },
  {
   "cell_type": "code",
   "execution_count": null,
   "metadata": {},
   "outputs": [],
   "source": []
  },
  {
   "cell_type": "code",
   "execution_count": null,
   "metadata": {},
   "outputs": [],
   "source": []
  }
 ],
 "metadata": {
  "kernelspec": {
   "display_name": "Python 3",
   "language": "python",
   "name": "python3"
  },
  "language_info": {
   "codemirror_mode": {
    "name": "ipython",
    "version": 3
   },
   "file_extension": ".py",
   "mimetype": "text/x-python",
   "name": "python",
   "nbconvert_exporter": "python",
   "pygments_lexer": "ipython3",
   "version": "3.7.6"
  },
  "toc": {
   "base_numbering": 1,
   "nav_menu": {},
   "number_sections": true,
   "sideBar": true,
   "skip_h1_title": false,
   "title_cell": "Table of Contents",
   "title_sidebar": "Contents",
   "toc_cell": false,
   "toc_position": {},
   "toc_section_display": true,
   "toc_window_display": false
  }
 },
 "nbformat": 4,
 "nbformat_minor": 4
}
